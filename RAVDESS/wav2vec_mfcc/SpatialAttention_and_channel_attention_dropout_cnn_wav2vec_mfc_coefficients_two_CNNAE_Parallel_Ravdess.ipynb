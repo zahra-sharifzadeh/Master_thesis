{
  "cells": [
    {
      "cell_type": "markdown",
      "metadata": {
        "id": "view-in-github",
        "colab_type": "text"
      },
      "source": [
        "<a href=\"https://colab.research.google.com/github/zahra-sharifzadeh/Master_thesis/blob/main/RAVDESS/wav2vec_mfcc/SpatialAttention_and_channel_attention_dropout_cnn_wav2vec_mfc_coefficients_two_CNNAE_Parallel_Ravdess.ipynb\" target=\"_parent\"><img src=\"https://colab.research.google.com/assets/colab-badge.svg\" alt=\"Open In Colab\"/></a>"
      ]
    },
    {
      "cell_type": "markdown",
      "metadata": {
        "id": "ExkoPoNs60Cu"
      },
      "source": [
        "#### Setup"
      ]
    },
    {
      "cell_type": "code",
      "execution_count": 27,
      "metadata": {
        "_cell_guid": "b1076dfc-b9ad-4769-8c92-a6c4dae69d19",
        "_uuid": "8f2839f25d086af736a60e9eeb907d3b93b6e0e5",
        "id": "ZcoBEft660Cv"
      },
      "outputs": [],
      "source": [
        "import torch\n",
        "import torch.nn as nn\n",
        "import matplotlib.pyplot as plt\n",
        "import numpy as np\n",
        "import pandas as pd\n",
        "import os, glob\n",
        "import librosa\n",
        "import librosa.display\n",
        "import torch.nn.functional as F\n",
        "\n",
        "import IPython\n",
        "from IPython.display import Audio\n",
        "\n",
        "from IPython.display import Image\n",
        "import warnings; warnings.filterwarnings('ignore') #matplot lib complains about librosa"
      ]
    },
    {
      "cell_type": "code",
      "execution_count": 2,
      "metadata": {
        "colab": {
          "base_uri": "https://localhost:8080/"
        },
        "id": "wXgX4hsZ60C1",
        "outputId": "43de747f-5e4a-4392-ada0-8fbf39ecc6ad"
      },
      "outputs": [
        {
          "output_type": "stream",
          "name": "stdout",
          "text": [
            "Mounted at /content/gdrive\n"
          ]
        }
      ],
      "source": [
        "# needed to import dataset from google drive into colab\n",
        "from google.colab import drive\n",
        "drive.mount(\"/content/gdrive\")"
      ]
    },
    {
      "cell_type": "code",
      "execution_count": 3,
      "metadata": {
        "id": "T8GiBMh2CJCR"
      },
      "outputs": [],
      "source": [
        "# copy RAVDESS dataset from gdrive and unzip\n",
        "!cp '/content/gdrive/MyDrive/RAVDESS.zip' .\n",
        "!unzip -q RAVDESS.zip"
      ]
    },
    {
      "cell_type": "markdown",
      "metadata": {
        "id": "ADgTrt0X60C3"
      },
      "source": [
        "## Define features\n",
        "\n",
        "Define features as in the previous notebook on this task from my ['sklearn-audio-classification' repo](https://github.com/IliaZenkov/sklearn-audio-classification). That notebook explains the motivation behind the Mel Spectrogram and its derivative MFCC, which we use as a feature. In short, we're looking for transitions in audible pitch frequencies.\n",
        "\n",
        "**MFCCs alone provide the best accuracy in this model with training considerations in mind - and provide as good an accuracy as using chromagrams + mel spectrograms + MFCCs. We don't want extra complexity in a highly parameterized deep neural net such as this one** (unless we absolutely need it).\n",
        "\n"
      ]
    },
    {
      "cell_type": "code",
      "execution_count": 28,
      "metadata": {
        "id": "OBZMdi7l60C4"
      },
      "outputs": [],
      "source": [
        "# RAVDESS native sample rate is 16000\n",
        "sample_rate = 16000\n",
        "\n",
        "# Mel Spectrograms are not directly used as a feature in this model\n",
        "# Mel Spectrograms are used in calculating MFCCs, which are a higher-level representation of pitch transition\n",
        "# MFCCs work better - left the mel spectrogram function here in case anyone wants to experiment\n",
        "def feature_melspectrogram(\n",
        "    waveform,\n",
        "    sample_rate,\n",
        "    fft = 1024,\n",
        "    winlen = 512,\n",
        "    window='hamming',\n",
        "    hop=256,\n",
        "    mels=128,\n",
        "    ):\n",
        "\n",
        "    # Produce the mel spectrogram for all STFT frames and get the mean of each column of the resulting matrix to create a feature array\n",
        "    # Using 8khz as upper frequency bound should be enough for most speech classification tasks\n",
        "    melspectrogram = librosa.feature.melspectrogram(\n",
        "        y=waveform,\n",
        "        sr=sample_rate,\n",
        "        n_fft=fft,\n",
        "        win_length=winlen,\n",
        "        window=window,\n",
        "        hop_length=hop,\n",
        "        n_mels=mels,\n",
        "        fmax=sample_rate/2)\n",
        "\n",
        "    # convert from power (amplitude**2) to decibels\n",
        "    # necessary for network to learn - doesn't converge with raw power spectrograms\n",
        "    melspectrogram = librosa.power_to_db(melspectrogram, ref=np.max)\n",
        "\n",
        "    return melspectrogram\n",
        "\n",
        "def feature_mfcc(\n",
        "    waveform,\n",
        "    sample_rate,\n",
        "    n_mfcc = 40,\n",
        "    fft = 1024,\n",
        "    winlen = 512,\n",
        "    window='hamming',\n",
        "    #hop=256, # increases # of time steps; was not helpful\n",
        "    mels=128\n",
        "    ):\n",
        "\n",
        "    # Compute the MFCCs for all STFT frames\n",
        "    # 40 mel filterbanks (n_mfcc) = 40 coefficients\n",
        "    mfc_coefficients=librosa.feature.mfcc(\n",
        "        y=waveform,\n",
        "        sr=sample_rate,\n",
        "        n_mfcc=n_mfcc,\n",
        "        n_fft=fft,\n",
        "        win_length=winlen,\n",
        "        window=window,\n",
        "        #hop_length=hop,\n",
        "        n_mels=mels,\n",
        "        fmax=sample_rate/2\n",
        "        )\n",
        "\n",
        "    return mfc_coefficients\n",
        "\n",
        "def get_features(waveforms, features, samplerate):\n",
        "\n",
        "    # initialize counter to track progress\n",
        "    file_count = 0\n",
        "\n",
        "    # process each waveform individually to get its MFCCs\n",
        "    for waveform in waveforms:\n",
        "        mfccs = feature_mfcc(waveform, sample_rate)\n",
        "        features.append(mfccs)\n",
        "        file_count += 1\n",
        "        # print progress\n",
        "        print('\\r'+f' Processed {file_count}/{len(waveforms)} waveforms',end='')\n",
        "\n",
        "    # return all features from list of waveforms\n",
        "    return features\n",
        "\n",
        "def get_waveforms(file):\n",
        "\n",
        "    # load an individual sample audio file\n",
        "    # read the full 3 seconds of the file, cut off the first 0.5s of silence; native sample rate = 48k\n",
        "    # don't need to store the sample rate that librosa.load returns\n",
        "    waveform, _ = librosa.load(file, duration=3, offset=0.5, sr=sample_rate)\n",
        "\n",
        "    # make sure waveform vectors are homogenous by defining explicitly\n",
        "    waveform_homo = np.zeros((int(sample_rate*3,)))\n",
        "    waveform_homo[:len(waveform)] = waveform\n",
        "\n",
        "    # return a single file's waveform\n",
        "    return waveform_homo\n",
        "\n",
        "# RAVDESS dataset emotions\n",
        "# shift emotions left to be 0 indexed for PyTorch\n",
        "emotions_dict ={\n",
        "    '0':'surprised',\n",
        "    '1':'neutral',\n",
        "    '2':'calm',\n",
        "    '3':'happy',\n",
        "    '4':'sad',\n",
        "    '5':'angry',\n",
        "    '6':'fearful',\n",
        "    '7':'disgust'\n",
        "}\n",
        "\n",
        "# Additional attributes from RAVDESS to play with\n",
        "emotion_attributes = {\n",
        "    '01': 'normal',\n",
        "    '02': 'strong'\n",
        "}"
      ]
    },
    {
      "cell_type": "markdown",
      "metadata": {
        "id": "VoHM-Dh860C6"
      },
      "source": [
        "## Load Data and Extract Features\n",
        "\n",
        "\n",
        "We process each file in the dataset and extract its features.\n",
        "\n",
        "We return the waveforms and the labels (from the file names of the RAVDESS audio samples). We return the raw waveforms because we're going to do some extra processing.\n"
      ]
    },
    {
      "cell_type": "code",
      "execution_count": 29,
      "metadata": {
        "id": "XasJEOjN60C7"
      },
      "outputs": [],
      "source": [
        "# path to data for glob\n",
        "data_path = '/content/Actor_*/*.wav'\n",
        "\n",
        "def load_data():\n",
        "    # features and labels\n",
        "    emotions = []\n",
        "    # raw waveforms to augment later\n",
        "    waveforms = []\n",
        "    # extra labels\n",
        "    intensities, genders = [],[]\n",
        "    # progress counter\n",
        "    file_count = 0\n",
        "    for file in glob.glob(data_path):\n",
        "        # get file name with labels\n",
        "        file_name = os.path.basename(file)\n",
        "\n",
        "        # get emotion label from the sample's file\n",
        "        emotion = int(file_name.split(\"-\")[2])\n",
        "\n",
        "        #  move surprise to 0 for cleaner behaviour with PyTorch/0-indexing\n",
        "        if emotion == 8: emotion = 0 # surprise is now at 0 index; other emotion indeces unchanged\n",
        "\n",
        "        # can convert emotion label to emotion string if desired, but\n",
        "        # training on number is better; better convert to emotion string after predictions are ready\n",
        "        # emotion = emotions_dict[str(emotion)]\n",
        "\n",
        "        # get other labels we might want\n",
        "        intensity = emotion_attributes[file_name.split(\"-\")[3]]\n",
        "        # even actors are female, odd are male\n",
        "        if (int((file_name.split(\"-\")[6]).split(\".\")[0]))%2==0:\n",
        "            gender = 'female'\n",
        "        else:\n",
        "            gender = 'male'\n",
        "\n",
        "        # get waveform from the sample\n",
        "        waveform = get_waveforms(file)\n",
        "\n",
        "        # store waveforms and labels\n",
        "        waveforms.append(waveform)\n",
        "        emotions.append(emotion)\n",
        "        intensities.append(intensity) # store intensity in case we wish to predict\n",
        "        genders.append(gender) # store gender in case we wish to predict\n",
        "\n",
        "        file_count += 1\n",
        "        # keep track of data loader's progress\n",
        "        print('\\r'+f' Processed {file_count}/{1440} audio samples',end='')\n",
        "\n",
        "    return waveforms, emotions, intensities, genders"
      ]
    },
    {
      "cell_type": "code",
      "execution_count": 30,
      "metadata": {
        "colab": {
          "base_uri": "https://localhost:8080/"
        },
        "id": "37LrPb2i60C9",
        "outputId": "5098b934-71e1-4c4e-fa5d-e86084c048b5"
      },
      "outputs": [
        {
          "output_type": "stream",
          "name": "stdout",
          "text": [
            " Processed 1440/1440 audio samples"
          ]
        }
      ],
      "source": [
        "# load data\n",
        "# init explicitly to prevent data leakage from past sessions, since load_data() appends\n",
        "waveforms, emotions, intensities, genders = [],[],[],[]\n",
        "waveforms, emotions, intensities, genders = load_data()"
      ]
    },
    {
      "cell_type": "markdown",
      "metadata": {
        "id": "PLBp0B-n60DB"
      },
      "source": [
        "## Check extracted audio waveforms and labels:\n"
      ]
    },
    {
      "cell_type": "code",
      "execution_count": 31,
      "metadata": {
        "colab": {
          "base_uri": "https://localhost:8080/"
        },
        "id": "pjjUpfNm60DC",
        "outputId": "859d5859-0c4e-4c09-8766-ca11695f3847"
      },
      "outputs": [
        {
          "output_type": "stream",
          "name": "stdout",
          "text": [
            "Waveforms set: 1440 samples\n",
            "Waveform signal length: 48000\n",
            "Emotions set: 1440 sample labels\n"
          ]
        }
      ],
      "source": [
        "print(f'Waveforms set: {len(waveforms)} samples')\n",
        "# we have 1440 waveforms but we need to know their length too; should be 3 sec * 48k = 144k\n",
        "print(f'Waveform signal length: {len(waveforms[0])}')\n",
        "print(f'Emotions set: {len(emotions)} sample labels')"
      ]
    },
    {
      "cell_type": "markdown",
      "metadata": {
        "id": "Zkfe5cWQGa-P"
      },
      "source": [
        "Looks good. 1440 samples and 1440 labels in total.\n",
        "\n",
        "**Waveforms are 144k long because 3 seconds * 48k sample rate = 144k length array representing the 3 second audio snippet.**"
      ]
    },
    {
      "cell_type": "markdown",
      "metadata": {
        "id": "UDnnCn8HEOQq"
      },
      "source": [
        "## Split into Train/Validation/Test Sets\n",
        "We'll use an 80/10/10 train/validation/test split to maximize training data and keep a reasonable validation/test set.\n",
        "\n",
        "**We're splitting waveforms so we can process train/validation/test waveforms separately and avoid data leakage.**\n",
        "\n",
        "**Have to take care to split the sets proportionally w.r.t. emotion.**\n",
        "\n",
        "**Yes, we can use sklearn - but to convince myself I've eradicated data leakage issues I did this manually.**"
      ]
    },
    {
      "cell_type": "code",
      "execution_count": 32,
      "metadata": {
        "colab": {
          "base_uri": "https://localhost:8080/"
        },
        "id": "ofaAetu48YEg",
        "outputId": "321e90dd-09d6-44d0-a082-8e1d0d929785"
      },
      "outputs": [
        {
          "output_type": "stream",
          "name": "stdout",
          "text": [
            "Training waveforms:(1147, 48000), y_train:(1147,)\n",
            "Validation waveforms:(143, 48000), y_valid:(143,)\n",
            "Test waveforms:(150, 48000), y_test:(150,)\n",
            "\n",
            "Sets are unique: 1440 samples out of 1440 are unique\n"
          ]
        }
      ],
      "source": [
        "# create storage for train, validation, test sets and their indices\n",
        "train_set,valid_set,test_set = [],[],[]\n",
        "X_train,X_valid,X_test = [],[],[]\n",
        "y_train,y_valid,y_test = [],[],[]\n",
        "\n",
        "# convert waveforms to array for processing\n",
        "waveforms = np.array(waveforms)\n",
        "\n",
        "# process each emotion separately to make sure we builf balanced train/valid/test sets\n",
        "for emotion_num in range(len(emotions_dict)):\n",
        "\n",
        "    # find all indices of a single unique emotion\n",
        "    emotion_indices = [index for index, emotion in enumerate(emotions) if emotion==emotion_num]\n",
        "\n",
        "    # seed for reproducibility\n",
        "    np.random.seed(69)\n",
        "    # shuffle indicies\n",
        "    emotion_indices = np.random.permutation(emotion_indices)\n",
        "\n",
        "    # store dim (length) of the emotion list to make indices\n",
        "    dim = len(emotion_indices)\n",
        "\n",
        "    # store indices of training, validation and test sets in 80/10/10 proportion\n",
        "    # train set is first 80%\n",
        "    train_indices = emotion_indices[:int(0.8*dim)]\n",
        "    # validation set is next 10% (between 80% and 90%)\n",
        "    valid_indices = emotion_indices[int(0.8*dim):int(0.9*dim)]\n",
        "    # test set is last 10% (between 90% - end/100%)\n",
        "    test_indices = emotion_indices[int(0.9*dim):]\n",
        "\n",
        "    # create train waveforms/labels sets\n",
        "    X_train.append(waveforms[train_indices,:])\n",
        "    y_train.append(np.array([emotion_num]*len(train_indices),dtype=np.int32))\n",
        "    # create validation waveforms/labels sets\n",
        "    X_valid.append(waveforms[valid_indices,:])\n",
        "    y_valid.append(np.array([emotion_num]*len(valid_indices),dtype=np.int32))\n",
        "    # create test waveforms/labels sets\n",
        "    X_test.append(waveforms[test_indices,:])\n",
        "    y_test.append(np.array([emotion_num]*len(test_indices),dtype=np.int32))\n",
        "\n",
        "    # store indices for each emotion set to verify uniqueness between sets\n",
        "    train_set.append(train_indices)\n",
        "    valid_set.append(valid_indices)\n",
        "    test_set.append(test_indices)\n",
        "\n",
        "# concatenate, in order, all waveforms back into one array\n",
        "X_train = np.concatenate(X_train,axis=0)\n",
        "X_valid = np.concatenate(X_valid,axis=0)\n",
        "X_test = np.concatenate(X_test,axis=0)\n",
        "\n",
        "# concatenate, in order, all emotions back into one array\n",
        "y_train = np.concatenate(y_train,axis=0)\n",
        "y_valid = np.concatenate(y_valid,axis=0)\n",
        "y_test = np.concatenate(y_test,axis=0)\n",
        "\n",
        "# combine and store indices for all emotions' train, validation, test sets to verify uniqueness of sets\n",
        "train_set = np.concatenate(train_set,axis=0)\n",
        "valid_set = np.concatenate(valid_set,axis=0)\n",
        "test_set = np.concatenate(test_set,axis=0)\n",
        "\n",
        "# check shape of each set\n",
        "print(f'Training waveforms:{X_train.shape}, y_train:{y_train.shape}')\n",
        "print(f'Validation waveforms:{X_valid.shape}, y_valid:{y_valid.shape}')\n",
        "print(f'Test waveforms:{X_test.shape}, y_test:{y_test.shape}')\n",
        "\n",
        "# make sure train, validation, test sets have no overlap/are unique\n",
        "# get all unique indices across all sets and how many times each index appears (count)\n",
        "uniques, count = np.unique(np.concatenate([train_set,test_set,valid_set],axis=0), return_counts=True)\n",
        "\n",
        "# if each index appears just once, and we have 1440 such unique indices, then all sets are unique\n",
        "if sum(count==1) == len(emotions):\n",
        "    print(f'\\nSets are unique: {sum(count==1)} samples out of {len(emotions)} are unique')\n",
        "else:\n",
        "    print(f'\\nSets are NOT unique: {sum(count==1)} samples out of {len(emotions)} are unique')"
      ]
    },
    {
      "cell_type": "markdown",
      "metadata": {
        "id": "kikSzy0MCFix"
      },
      "source": [
        "## Extract Features\n"
      ]
    },
    {
      "cell_type": "markdown",
      "metadata": {
        "id": "HJ0phzMzy40S"
      },
      "source": [
        "Extract the features from unaugmented waveforms first. In the next step, we'll append features from augmented waveforms to these 'native' features."
      ]
    },
    {
      "cell_type": "code",
      "execution_count": 33,
      "metadata": {
        "id": "OI4y4gFgCED3"
      },
      "outputs": [],
      "source": [
        "# # initialize feature arrays\n",
        "# # We extract MFCC features from waveforms and store in respective 'features' array\n",
        "# features_train, features_valid, features_test = [],[],[]\n",
        "\n",
        "# print('Train waveforms:') # get training set features\n",
        "# features_train = get_features(X_train, features_train, sample_rate)\n",
        "\n",
        "# print('\\n\\nValidation waveforms:') # get validation set features\n",
        "# features_valid = get_features(X_valid, features_valid, sample_rate)\n",
        "\n",
        "# print('\\n\\nTest waveforms:') # get test set features\n",
        "# features_test = get_features(X_test, features_test, sample_rate)\n",
        "\n",
        "# print(f'\\n\\nFeatures set: {len(features_train)+len(features_test)+len(features_valid)} total, {len(features_train)} train, {len(features_valid)} validation, {len(features_test)} test samples')\n",
        "# print(f'Features (MFC coefficient matrix) shape: {len(features_train[0])} mel frequency coefficients x {len(features_train[0][1])} time steps')"
      ]
    },
    {
      "cell_type": "markdown",
      "metadata": {
        "id": "mx3PipOL60DG"
      },
      "source": [
        "## Augmenting the Data with AWGN - Additive White Gaussian Noise\n",
        "\n",
        "### Motivation\n",
        "\n",
        "Since our dataset is small, it is prone to overfitting - especially with highly parameterized deep neural net models\n",
        "such as the one we aim to build in this notebook. As such, we're going to want to augment our data. Generating more real samples will be immensely difficult. Instead, we can add white noise to the audio signals - not only to mask the effect of random noise present in the training set - but also **to create pseudo-new training samples and offset the impact of noise intrinsic to the dataset.**\n",
        "\n",
        "In addition, the RAVDESS dataset is extremely clean - we will likely want to make predictions on noisy, real-world data - yet another reason to augment the training data.\n",
        "\n",
        "We're going to use Additive White Gaussian Noise (AWGN). It's Additive because we're adding it to the source audio signal,\n",
        "**it's Gaussian because the noise vector will be sampled from a normal distribution and have a time average of zero (zero-mean), and it's white because after a whitening transformation the noise will add power to the audio signal uniformly across the frequency distribution.**\n",
        "\n",
        "We need a good balance of noise - too little will be useless, and too much will make it too difficult for the network to learn from the training data. **Note that this is just for training - we would _not_ need to add AWGN to real-world data on which we make predictions** (although we could).\n",
        "\n",
        "### Math\n",
        "The key parameters in AWGN are the signal to noise ratio (SNR), defining the magnitude of the noise added w.r.t. the audio signal. We parameterize AWGN with the minimum and maximize SNR so we can pick a random SNR to use in augmenting each sample's waveform.\n",
        "\n",
        "We need to constrain covariance to make it true AWGN. **We make a zero-mean vector of Gaussian noises (np.random.normal) that are statistically dependent. We need to apply a [whitening transformation](https://en.wikipedia.org/wiki/Whitening_transformation)**, a linear transformation taking a vector of random normal (Gaussian) variables with a known covariance matrix and mapping it to a new vector whose covariance is the identity matrix, i.e. the vector is now perfectly uncorrelated with a diaganol covariance matrix, each point of noise having variance == stdev == 1. **The whitening transformation by definition transforms a vector into a white noise vector.**\n",
        "\n",
        "We're going to add the AWGN augmented waveforms as new samples to our dataset. **Since we generate AWGN which is random for each and every sample - random random noise - we can add multiples of our noise-augmented dataset. I'll add 2 extra identical, randomly noisy datasets with 1440 samples each to get a dataset with 1440 native + 1440x2 == 4320 noisy samples.**"
      ]
    },
    {
      "cell_type": "code",
      "execution_count": 34,
      "metadata": {
        "id": "T6iY69E-60DG"
      },
      "outputs": [],
      "source": [
        "# def awgn_augmentation(waveform, multiples=2, bits=16, snr_min=15, snr_max=30):\n",
        "\n",
        "#     # get length of waveform (should be 3*48k = 144k)\n",
        "#     wave_len = len(waveform)\n",
        "\n",
        "#     # Generate normally distributed (Gaussian) noises\n",
        "#     # one for each waveform and multiple (i.e. wave_len*multiples noises)\n",
        "#     noise = np.random.normal(size=(multiples, wave_len))\n",
        "\n",
        "#     # Normalize waveform and noise\n",
        "#     norm_constant = 2.0**(bits-1)\n",
        "#     norm_wave = waveform / norm_constant\n",
        "#     norm_noise = noise / norm_constant\n",
        "\n",
        "#     # Compute power of waveform and power of noise\n",
        "#     signal_power = np.sum(norm_wave ** 2) / wave_len\n",
        "#     noise_power = np.sum(norm_noise ** 2, axis=1) / wave_len\n",
        "\n",
        "#     # Choose random SNR in decibels in range [15,30]\n",
        "#     snr = np.random.randint(snr_min, snr_max)\n",
        "\n",
        "#     # Apply whitening transformation: make the Gaussian noise into Gaussian white noise\n",
        "#     # Compute the covariance matrix used to whiten each noise\n",
        "#     # actual SNR = signal/noise (power)\n",
        "#     # actual noise power = 10**(-snr/10)\n",
        "#     covariance = np.sqrt((signal_power / noise_power) * 10 ** (- snr / 10))\n",
        "#     # Get covariance matrix with dim: (144000, 2) so we can transform 2 noises: dim (2, 144000)\n",
        "#     covariance = np.ones((wave_len, multiples)) * covariance\n",
        "\n",
        "#     # Since covariance and noise are arrays, * is the haddamard product\n",
        "#     # Take Haddamard product of covariance and noise to generate white noise\n",
        "#     multiple_augmented_waveforms = waveform + covariance.T * noise\n",
        "\n",
        "#     return multiple_augmented_waveforms"
      ]
    },
    {
      "cell_type": "code",
      "source": [
        "# def augment_waveforms(waveforms,  emotions, multiples):\n",
        "#     # keep track of how many waveforms we've processed so we can add correct emotion label in the same order\n",
        "#     emotion_count = 0\n",
        "#     # keep track of how many augmented samples we've added\n",
        "#     added_count = 0\n",
        "#     # convert emotion array to list for more efficient appending\n",
        "#     emotions = emotions.tolist()\n",
        "\n",
        "#     for waveform in waveforms:\n",
        "\n",
        "#         # Generate 2 augmented multiples of the dataset, i.e. 1440 native + 1440*2 noisy = 4320 samples total\n",
        "#         augmented_waveforms = awgn_augmentation(waveform, multiples=multiples)\n",
        "#         waveforms= np.concatenate([waveforms,augmented_waveforms],axis=0)\n",
        "\n",
        "\n",
        "#         # compute spectrogram for each of 2 augmented waveforms\n",
        "#         for augmented_waveform in augmented_waveforms:\n",
        "\n",
        "#             # Compute MFCCs over augmented waveforms\n",
        "#             augmented_mfcc = feature_mfcc(augmented_waveform, sample_rate=sample_rate)\n",
        "\n",
        "#             # append the augmented spectrogram to the rest of the native data\n",
        "#             # features.append(augmented_mfcc)\n",
        "#             # print(augmented_waveforms.shape)\n",
        "#             emotions.append(emotions[emotion_count])\n",
        "\n",
        "#             # keep track of new augmented samples\n",
        "#             added_count += 1\n",
        "\n",
        "#             # check progress\n",
        "#             print('\\r'+f'Processed {emotion_count + 1}/{len(waveforms)} waveforms for {added_count}/{len(waveforms)*multiples} new augmented samples',end='')\n",
        "\n",
        "#         # keep track of the emotion labels to append in order\n",
        "#         emotion_count += 1\n",
        "\n",
        "#         # store augmented waveforms to check their shape\n",
        "#         augmented_waveforms_temp.append(augmented_waveforms)\n",
        "\n",
        "\n",
        "#     return waveforms, augmented_mfcc,  emotions"
      ],
      "metadata": {
        "id": "61KDvjLQngzZ"
      },
      "execution_count": 35,
      "outputs": []
    },
    {
      "cell_type": "markdown",
      "metadata": {
        "id": "4GZ2CAy3F-nK"
      },
      "source": [
        "### Compute AWGN-augmented features and add to the rest of the dataset\n",
        "\n"
      ]
    },
    {
      "cell_type": "code",
      "source": [
        "def addAWGN(signal, num_bits=16, augmented_num=2, snr_low=15, snr_high=30):\n",
        "    signal_len = len(signal)\n",
        "    # Generate White Gaussian noise\n",
        "    noise = np.random.normal(size=(augmented_num, signal_len))\n",
        "    # Normalize signal and noise\n",
        "    norm_constant = 2.0**(num_bits-1)\n",
        "    signal_norm = signal / norm_constant\n",
        "    noise_norm = noise / norm_constant\n",
        "    # Compute signal and noise power\n",
        "    s_power = np.sum(signal_norm ** 2) / signal_len\n",
        "    n_power = np.sum(noise_norm ** 2, axis=1) / signal_len\n",
        "    # Random SNR: Uniform [15, 30] in dB\n",
        "    target_snr = np.random.randint(snr_low, snr_high)\n",
        "    # Compute K (covariance matrix) for each noise\n",
        "    K = np.sqrt((s_power / n_power) * 10 ** (- target_snr / 10))\n",
        "    K = np.ones((signal_len, augmented_num)) * K\n",
        "    # Generate noisy signal\n",
        "    return signal + K.T * noise"
      ],
      "metadata": {
        "id": "g_EwfKc3j7wR"
      },
      "execution_count": 36,
      "outputs": []
    },
    {
      "cell_type": "code",
      "source": [
        "aug_signals = []\n",
        "aug_labels = []\n",
        "emotion_list = y_train.tolist()\n",
        "for i in range(X_train.shape[0]):\n",
        "    signal = X_train[i,:]\n",
        "    augmented_signals = addAWGN(signal)\n",
        "    for j in range(augmented_signals.shape[0]):\n",
        "        aug_labels.append(emotion_list[i])\n",
        "        aug_signals.append(augmented_signals[j,:])\n",
        "        # data = data.append(data.iloc[i], ignore_index=True)\n",
        "    print(\"\\r Processed {}/{} files\".format(i+1,X_train.shape[0]),end='')\n",
        "aug_signals = np.stack(aug_signals,axis=0)\n",
        "X_train = np.concatenate([X_train,aug_signals],axis=0)\n",
        "aug_labels = np.stack(aug_labels,axis=0)\n",
        "y_train = np.concatenate([y_train,aug_labels])\n",
        "print('')\n",
        "print(f'X_train:{X_train.shape}, Y_train:{y_train.shape}')"
      ],
      "metadata": {
        "colab": {
          "base_uri": "https://localhost:8080/"
        },
        "id": "W1J6XnXOkAgZ",
        "outputId": "f2408981-c796-4d49-9225-e3c59d732d5d"
      },
      "execution_count": 37,
      "outputs": [
        {
          "output_type": "stream",
          "name": "stdout",
          "text": [
            " Processed 1147/1147 files\n",
            "X_train:(3441, 48000), Y_train:(3441,)\n"
          ]
        }
      ]
    },
    {
      "cell_type": "code",
      "source": [
        "aug_signals = []\n",
        "aug_labels = []\n",
        "emotion_list = y_valid.tolist()\n",
        "for i in range(X_valid.shape[0]):\n",
        "    signal = X_valid[i,:]\n",
        "    augmented_signals = addAWGN(signal)\n",
        "    for j in range(augmented_signals.shape[0]):\n",
        "        aug_labels.append(emotion_list[i])\n",
        "        aug_signals.append(augmented_signals[j,:])\n",
        "        # data = data.append(data.iloc[i], ignore_index=True)\n",
        "    print(\"\\r Processed {}/{} files\".format(i+1,y_valid.shape[0]),end='')\n",
        "aug_signals = np.stack(aug_signals,axis=0)\n",
        "X_valid = np.concatenate([X_valid,aug_signals],axis=0)\n",
        "aug_labels = np.stack(aug_labels,axis=0)\n",
        "y_valid = np.concatenate([y_valid,aug_labels])\n",
        "print('')\n",
        "print(f'X_valid:{X_valid.shape}, Y_train:{y_valid.shape}')"
      ],
      "metadata": {
        "colab": {
          "base_uri": "https://localhost:8080/"
        },
        "id": "u3DO8dkZoDtb",
        "outputId": "365d0e20-1a21-453c-9393-c57ae26a71c2"
      },
      "execution_count": 38,
      "outputs": [
        {
          "output_type": "stream",
          "name": "stdout",
          "text": [
            " Processed 143/143 files\n",
            "X_valid:(429, 48000), Y_train:(429,)\n"
          ]
        }
      ]
    },
    {
      "cell_type": "code",
      "source": [
        "aug_signals = []\n",
        "aug_labels = []\n",
        "emotion_list = y_test.tolist()\n",
        "for i in range(X_test.shape[0]):\n",
        "    signal = X_test[i,:]\n",
        "    augmented_signals = addAWGN(signal)\n",
        "    for j in range(augmented_signals.shape[0]):\n",
        "        aug_labels.append(emotion_list[i])\n",
        "        aug_signals.append(augmented_signals[j,:])\n",
        "        # data = data.append(data.iloc[i], ignore_index=True)\n",
        "    print(\"\\r Processed {}/{} files\".format(i+1,y_test.shape[0]),end='')\n",
        "aug_signals = np.stack(aug_signals,axis=0)\n",
        "X_test = np.concatenate([X_test,aug_signals],axis=0)\n",
        "aug_labels = np.stack(aug_labels,axis=0)\n",
        "y_test = np.concatenate([y_test,aug_labels])\n",
        "print('')\n",
        "print(f'X_valid:{X_test.shape}, Y_train:{y_test.shape}')"
      ],
      "metadata": {
        "colab": {
          "base_uri": "https://localhost:8080/"
        },
        "id": "IeBXMOwjotEx",
        "outputId": "d2736503-0f66-44c2-daec-c0c21c068aa4"
      },
      "execution_count": 39,
      "outputs": [
        {
          "output_type": "stream",
          "name": "stdout",
          "text": [
            " Processed 150/150 files\n",
            "X_valid:(450, 48000), Y_train:(450,)\n"
          ]
        }
      ]
    },
    {
      "cell_type": "code",
      "source": [
        "# initialize feature arrays\n",
        "# We extract MFCC features from waveforms and store in respective 'features' array\n",
        "features_train, features_valid, features_test = [],[],[]\n",
        "\n",
        "print('Train waveforms:') # get training set features\n",
        "features_train = get_features(X_train, features_train, sample_rate)\n",
        "\n",
        "print('\\n\\nValidation waveforms:') # get validation set features\n",
        "features_valid = get_features(X_valid, features_valid, sample_rate)\n",
        "\n",
        "print('\\n\\nTest waveforms:') # get test set features\n",
        "features_test = get_features(X_test, features_test, sample_rate)\n",
        "\n",
        "print(f'\\n\\nFeatures set: {len(features_train)+len(features_test)+len(features_valid)} total, {len(features_train)} train, {len(features_valid)} validation, {len(features_test)} test samples')\n",
        "print(f'Features (MFC coefficient matrix) shape: {len(features_train[0])} mel frequency coefficients x {len(features_train[0][1])} time steps')"
      ],
      "metadata": {
        "colab": {
          "base_uri": "https://localhost:8080/"
        },
        "id": "soHKB0MppPos",
        "outputId": "ee034761-43ca-4239-8485-b9b9f4a0c5c6"
      },
      "execution_count": 40,
      "outputs": [
        {
          "output_type": "stream",
          "name": "stdout",
          "text": [
            "Train waveforms:\n",
            " Processed 3441/3441 waveforms\n",
            "\n",
            "Validation waveforms:\n",
            " Processed 429/429 waveforms\n",
            "\n",
            "Test waveforms:\n",
            " Processed 450/450 waveforms\n",
            "\n",
            "Features set: 4320 total, 3441 train, 429 validation, 450 test samples\n",
            "Features (MFC coefficient matrix) shape: 40 mel frequency coefficients x 94 time steps\n"
          ]
        }
      ]
    },
    {
      "cell_type": "code",
      "execution_count": 41,
      "metadata": {
        "id": "05bOxnra54ia"
      },
      "outputs": [],
      "source": [
        "# # # store augmented waveforms to verify their shape and random-ness\n",
        "# augmented_waveforms_temp = []\n",
        "\n",
        "# # # specify multiples of our dataset to add as augmented data\n",
        "# multiples = 2\n",
        "\n",
        "# # print('Train waveforms:') # augment waveforms of training set\n",
        "# # signal, augmented_mfcc,  emotions\n",
        "# signal, features_train , y_train = augment_waveforms(X_train,  y_train, multiples)\n",
        "\n",
        "# # print('\\n\\nValidation waveforms:') # augment waveforms of validation set\n",
        "# # features_valid, y_valid = augment_waveforms(X_valid,  y_valid, multiples)\n",
        "\n",
        "# # print('\\n\\nTest waveforms:') # augment waveforms of test set\n",
        "# # features_test, y_test = augment_waveforms(X_test,  y_test, multiples)\n",
        "\n",
        "# # # Check new shape of extracted features and data:\n",
        "# # print(f'\\n\\nNative + Augmented Features set: {len(features_train)+len(features_test)+len(features_valid)} total, {len(features_train)} train, {len(features_valid)} validation, {len(features_test)} test samples')\n",
        "# # print(f'{len(y_train)} training sample labels, {len(y_valid)} validation sample labels, {len(y_test)} test sample labels')\n"
      ]
    },
    {
      "cell_type": "markdown",
      "metadata": {
        "id": "pG6UTrZ160DO"
      },
      "source": [
        "### Check Augmented Waveforms:"
      ]
    },
    {
      "cell_type": "code",
      "execution_count": 42,
      "metadata": {
        "id": "co938icT60DP"
      },
      "outputs": [],
      "source": [
        "# # pick a random waveform, but same one from native and augmented set for easier comparison\n",
        "# plt.figure(figsize=(15,4))\n",
        "# plt.subplot(1, 2, 1)\n",
        "# librosa.display.waveshow(waveforms[12], sr=sample_rate)\n",
        "# plt.title('Native')\n",
        "\n",
        "# plt.subplot(1, 2, 2)\n",
        "# # augmented waveforms are 2D len 1440 list with 2 waveforms in each position\n",
        "# librosa.display.waveshow(augmented_waveforms_temp[0][0], sr=sample_rate)\n",
        "# plt.title('AWGN Augmented')\n",
        "# plt.show()\n",
        "\n",
        "# plt.figure(figsize=(15,4))\n",
        "# plt.subplot(1, 2, 1)\n",
        "# librosa.display.waveshow(augmented_waveforms_temp[2][0], sr=sample_rate)\n",
        "# plt.title('AWGN Augmented')\n",
        "\n",
        "# plt.subplot(1, 2, 2)\n",
        "# librosa.display.waveshow(augmented_waveforms_temp[7][0], sr=sample_rate)\n",
        "# plt.title('AWGN Augmented')\n",
        "# plt.show()\n"
      ]
    },
    {
      "cell_type": "markdown",
      "metadata": {
        "id": "Z-GOeKiP60DV"
      },
      "source": [
        "Looks noisy alright. Noise is clearly visible in otherwise-silent regions of the waveform. We can see the variability of the noise, which should have an SNR between 15 and 30.\n",
        "\n",
        "**Note that augmentation was only done after splitting data into train, validation, and test sets - and we processed each set separately.**\n",
        "\n",
        "**When we augmented the data before splitting it, test and validation data leaked into the training set giving a 97% test accuracy after training.**\n",
        "\n",
        "## Format Data into Tensor Ready 4D Arrays\n",
        "We don't have a colour channel in our MFCC feature array of dim (#samples, #MFC coefficients, time steps). **We have an analog of a black and white image: instead of 3 colour channels, we have 1 signal intensity channel: magnitude of each of 40 mel frequency coefficients at time t.**\n",
        "\n",
        "**We need an input channel dim to expand to output channels using CNN filters. We create a dummy channel dim to expand features into 2D-CNN-ready 4D tensor format: N x C x H x W.**"
      ]
    },
    {
      "cell_type": "code",
      "execution_count": 43,
      "metadata": {
        "id": "PQCm9rLx60DW",
        "colab": {
          "base_uri": "https://localhost:8080/"
        },
        "outputId": "eba2b69e-f2dd-497d-a70a-762dc912b264"
      },
      "outputs": [
        {
          "output_type": "stream",
          "name": "stdout",
          "text": [
            "Shape of 4D feature array for input tensor: (3441, 1, 40, 94) train, (429, 1, 40, 94) validation, (450, 1, 40, 94) test\n",
            "Shape of emotion labels: (3441,) train, (429,) validation, (450,) test\n"
          ]
        }
      ],
      "source": [
        "# need to make dummy input channel for CNN input feature tensor\n",
        "features_train = np.expand_dims(features_train,1)\n",
        "features_valid = np.expand_dims(features_valid, 1)\n",
        "features_test = np.expand_dims(features_test,1)\n",
        "\n",
        "# # convert emotion labels from list back to numpy arrays for PyTorch to work with\n",
        "y_train = np.array(y_train)\n",
        "y_valid = np.array(y_valid)\n",
        "y_test = np.array(y_test)\n",
        "\n",
        "# confiorm that we have tensor-ready 4D data array\n",
        "# should print (batch, channel, width, height) == (4320, 1, 128, 282) when multiples==2\n",
        "print(f'Shape of 4D feature array for input tensor: {features_train.shape} train, {features_valid.shape} validation, {features_test.shape} test')\n",
        "print(f'Shape of emotion labels: {y_train.shape} train, {y_valid.shape} validation, {y_test.shape} test')"
      ]
    },
    {
      "cell_type": "code",
      "source": [
        "X_train.shape"
      ],
      "metadata": {
        "colab": {
          "base_uri": "https://localhost:8080/"
        },
        "id": "zDHxL8j11OjH",
        "outputId": "dc4574b0-6642-42e5-bf57-87ea39d4f67f"
      },
      "execution_count": 44,
      "outputs": [
        {
          "output_type": "execute_result",
          "data": {
            "text/plain": [
              "(3441, 48000)"
            ]
          },
          "metadata": {},
          "execution_count": 44
        }
      ]
    },
    {
      "cell_type": "code",
      "execution_count": 45,
      "metadata": {
        "id": "3mHDd2jiB9o6"
      },
      "outputs": [],
      "source": [
        "# free up some RAM - no longer need full feature set or any waveforms\n",
        "# del features_train, features_valid, features_test, waveforms, augmented_waveforms_temp"
      ]
    },
    {
      "cell_type": "markdown",
      "metadata": {
        "id": "0Mr8NcUd60Dd"
      },
      "source": [
        "## Feature Scaling\n",
        "Scaling will drastically decrease the length of time the model needs to train to convergence - it will have easier computations to perform on smaller magnitudes. **For reference, scaling reduces the time to convergence from about 500 to 200 epochs for this model.**\n",
        "\n",
        "**Standard Scaling makes the most sense because we have features whose target distribution we don't know.** When I performed classification on this dataset with an MLP classifier standard scaling was best across a variety of conditions and features.\n"
      ]
    },
    {
      "cell_type": "code",
      "execution_count": 46,
      "metadata": {
        "id": "tlOPCDUx60De",
        "colab": {
          "base_uri": "https://localhost:8080/"
        },
        "outputId": "72d1ad0b-0609-4dd5-d443-3a235bb3bd2f"
      },
      "outputs": [
        {
          "output_type": "stream",
          "name": "stdout",
          "text": [
            "X_train scaled:(3441, 1, 40, 94), y_train:(3441,)\n",
            "X_valid scaled:(429, 1, 40, 94), y_valid:(429,)\n",
            "X_test scaled:(450, 1, 40, 94), y_test:(450,)\n"
          ]
        }
      ],
      "source": [
        "from sklearn.preprocessing import StandardScaler\n",
        "\n",
        "scaler = StandardScaler()\n",
        "\n",
        "\n",
        "#### Scale the training data ####\n",
        "# store shape so we can transform it back\n",
        "N,C,H,W = features_train.shape\n",
        "# Reshape to 1D because StandardScaler operates on a 1D array\n",
        "# tell numpy to infer shape of 1D array with '-1' argument\n",
        "features_train = np.reshape(features_train, (N,-1))\n",
        "features_train = scaler.fit_transform(features_train)\n",
        "# Transform back to NxCxHxW 4D tensor format\n",
        "features_train = np.reshape(features_train, (N,C,H,W))\n",
        "\n",
        "##### Scale the validation set ####\n",
        "N,C,H,W = features_valid.shape\n",
        "features_valid = np.reshape(features_valid, (N,-1))\n",
        "features_valid = scaler.transform(features_valid)\n",
        "features_valid = np.reshape(features_valid, (N,C,H,W))\n",
        "\n",
        "#### Scale the test set ####\n",
        "N,C,H,W = features_test.shape\n",
        "features_test = np.reshape(features_test, (N,-1))\n",
        "features_test = scaler.transform(features_test)\n",
        "features_test = np.reshape(features_test, (N,C,H,W))\n",
        "\n",
        "# check shape of each set again\n",
        "print(f'X_train scaled:{features_train.shape}, y_train:{y_train.shape}')\n",
        "print(f'X_valid scaled:{features_valid.shape}, y_valid:{y_valid.shape}')\n",
        "print(f'X_test scaled:{features_test.shape}, y_test:{y_test.shape}')"
      ]
    },
    {
      "cell_type": "markdown",
      "metadata": {
        "id": "zvZh_Cuv7zAb"
      },
      "source": [
        "## Save and Reload Data as NumPy Arrays\n",
        "We can save the training/validation/test data as numpy arrays to enable faster loading in case the notebook kernel crashes / google colab runtime crashes / any number of reasons the training data might be cleared from memory. This is much faster than loading 1440 files and computing their features again - not to mention augmented features."
      ]
    },
    {
      "cell_type": "code",
      "source": [],
      "metadata": {
        "id": "Q2EmDJEB42ty"
      },
      "execution_count": 46,
      "outputs": []
    },
    {
      "cell_type": "code",
      "execution_count": 47,
      "metadata": {
        "id": "yx4vK5ssRIzH",
        "colab": {
          "base_uri": "https://localhost:8080/"
        },
        "outputId": "c285604f-b66b-41f6-fb41-b9c47b3905cd"
      },
      "outputs": [
        {
          "output_type": "stream",
          "name": "stdout",
          "text": [
            "Features and labels saved to features+labels.npy\n"
          ]
        }
      ],
      "source": [
        "###### SAVE #########\n",
        "# choose save file name\n",
        "filename = 'features+labels.npy'\n",
        "\n",
        "# open file in write mode and write data\n",
        "with open(filename, 'wb') as f:\n",
        "    np.save(f, features_train)\n",
        "    np.save(f, features_valid)\n",
        "    np.save(f, features_test)\n",
        "    np.save(f, y_train)\n",
        "    np.save(f, y_valid)\n",
        "    np.save(f, y_test)\n",
        "\n",
        "print(f'Features and labels saved to {filename}')"
      ]
    },
    {
      "cell_type": "code",
      "execution_count": 48,
      "metadata": {
        "id": "bj46pQstRKlI",
        "colab": {
          "base_uri": "https://localhost:8080/"
        },
        "outputId": "81815dab-ba9f-48ea-e064-875fe073044f"
      },
      "outputs": [
        {
          "output_type": "stream",
          "name": "stdout",
          "text": [
            "X_train:(3441, 1, 40, 94), y_train:(3441,)\n",
            "X_valid:(429, 1, 40, 94), y_valid:(429,)\n",
            "X_test:(450, 1, 40, 94), y_test:(450,)\n"
          ]
        }
      ],
      "source": [
        "##### LOAD #########\n",
        "# choose load file name\n",
        "filename = 'features+labels.npy'\n",
        "\n",
        "# open file in read mode and read data\n",
        "with open(filename, 'rb') as f:\n",
        "    features_train = np.load(f)\n",
        "    features_valid = np.load(f)\n",
        "    features_test = np.load(f)\n",
        "    y_train = np.load(f)\n",
        "    y_valid = np.load(f)\n",
        "    y_test = np.load(f)\n",
        "\n",
        "# Check that we've recovered the right data\n",
        "print(f'X_train:{features_train.shape}, y_train:{y_train.shape}')\n",
        "print(f'X_valid:{features_valid.shape}, y_valid:{y_valid.shape}')\n",
        "print(f'X_test:{features_test.shape}, y_test:{y_test.shape}')"
      ]
    },
    {
      "cell_type": "code",
      "source": [
        "X_train.shape"
      ],
      "metadata": {
        "id": "ZcdVeQiA_xLw",
        "outputId": "085ad096-e228-44ec-ec99-bd4a8eb7fde3",
        "colab": {
          "base_uri": "https://localhost:8080/"
        }
      },
      "execution_count": 49,
      "outputs": [
        {
          "output_type": "execute_result",
          "data": {
            "text/plain": [
              "(3441, 48000)"
            ]
          },
          "metadata": {},
          "execution_count": 49
        }
      ]
    },
    {
      "cell_type": "code",
      "source": [],
      "metadata": {
        "id": "L6ObDdbgjQaJ"
      },
      "execution_count": 49,
      "outputs": []
    },
    {
      "cell_type": "code",
      "source": [
        "class SpatialAttention(nn.Module):\n",
        "    def __init__(self, in_channels):\n",
        "        super(SpatialAttention, self).__init__()\n",
        "        self.conv1 = nn.Conv2d(in_channels * 2, 1, kernel_size=1)  # Double the channels in the convolution\n",
        "        self.sigmoid = nn.Sigmoid()\n",
        "\n",
        "    def forward(self, x):\n",
        "        # Assuming x has shape [batches, 64, 1, 8]\n",
        "        avg_pool = F.avg_pool2d(x, kernel_size=(1, x.size(3)))\n",
        "        max_pool = F.max_pool2d(x, kernel_size=(1, x.size(3)))\n",
        "\n",
        "        # Double the channels in the features concatenation\n",
        "        features = torch.cat([avg_pool, max_pool], dim=1)\n",
        "\n",
        "        attention = self.conv1(features)\n",
        "        attention = self.sigmoid(attention)\n",
        "\n",
        "        # Applying attention to the input tensor along the spatial dimension\n",
        "        x = x * attention\n",
        "\n",
        "        return x\n",
        "\n",
        "# Example usage\n",
        "batches, channels, height, width = 2, 64, 1, 2\n",
        "input_tensor = torch.randn(batches, channels, height, width)\n",
        "attention_module = SpatialAttention(in_channels=channels)\n",
        "output_tensor = attention_module(input_tensor)\n",
        "\n",
        "print(\"Input shape:\", input_tensor.shape)\n",
        "print(\"Output shape:\", output_tensor.shape)\n"
      ],
      "metadata": {
        "colab": {
          "base_uri": "https://localhost:8080/"
        },
        "id": "Xw7cZN8q877f",
        "outputId": "54a89df7-a29f-4527-f58d-98b15992759a"
      },
      "execution_count": 50,
      "outputs": [
        {
          "output_type": "stream",
          "name": "stdout",
          "text": [
            "Input shape: torch.Size([2, 64, 1, 2])\n",
            "Output shape: torch.Size([2, 64, 1, 2])\n"
          ]
        }
      ]
    },
    {
      "cell_type": "code",
      "source": [
        "class ChannelAttention(nn.Module):\n",
        "    def __init__(self, in_channels, reduction=16):\n",
        "        super(ChannelAttention, self).__init__()\n",
        "        self.avg_pool = nn.AdaptiveAvgPool2d(1)\n",
        "        self.max_pool = nn.AdaptiveMaxPool2d(1)\n",
        "        self.fc = nn.Sequential(\n",
        "            nn.Linear(in_channels, in_channels // reduction),\n",
        "            nn.ReLU(),\n",
        "            nn.Linear(in_channels // reduction, in_channels),\n",
        "            nn.Sigmoid()\n",
        "        )\n",
        "\n",
        "    def forward(self, x):\n",
        "        avg_pool = self.avg_pool(x).view(x.size(0), -1)\n",
        "        max_pool = self.max_pool(x).view(x.size(0), -1)\n",
        "        channel_att = self.fc(avg_pool + max_pool).view(x.size(0), x.size(1), 1, 1)\n",
        "        x = x * channel_att\n",
        "        return x\n",
        "\n",
        "\n",
        "# Example usage\n",
        "batches, channels, height, width = 2, 64, 1, 2\n",
        "input_tensor = torch.randn(batches, channels, height, width)\n",
        "attention_module = ChannelAttention(in_channels=channels)\n",
        "output_tensor = attention_module(input_tensor)\n",
        "\n",
        "print(\"Input shape:\", input_tensor.shape)\n",
        "print(\"Output shape:\", output_tensor.shape)\n",
        "\n"
      ],
      "metadata": {
        "colab": {
          "base_uri": "https://localhost:8080/"
        },
        "id": "b0Eq8DIg9JTR",
        "outputId": "e47511a2-a9d2-4cbd-e7a1-301d1d24e1d8"
      },
      "execution_count": 51,
      "outputs": [
        {
          "output_type": "stream",
          "name": "stdout",
          "text": [
            "Input shape: torch.Size([2, 64, 1, 2])\n",
            "Output shape: torch.Size([2, 64, 1, 2])\n"
          ]
        }
      ]
    },
    {
      "cell_type": "code",
      "source": [
        "import torch\n",
        "import torch.nn as nn\n",
        "\n",
        "class Encoder1(nn.Module):\n",
        "    def __init__(self):\n",
        "        super(Encoder1, self).__init__()\n",
        "\n",
        "        self.encoder1 = nn.Sequential(\n",
        "            # 1st 2D convolution layer\n",
        "            nn.Conv2d(1, 16, kernel_size=3, stride=1, padding=1),\n",
        "            nn.BatchNorm2d(16),\n",
        "            nn.SELU(),\n",
        "            nn.MaxPool2d(kernel_size=2, stride=2),\n",
        "            nn.Dropout(p=0.3),\n",
        "\n",
        "            # 2nd 2D convolution layer\n",
        "            nn.Conv2d(16, 32, kernel_size=3, stride=1, padding=1),\n",
        "            nn.BatchNorm2d(32),\n",
        "            nn.SELU(),\n",
        "            nn.MaxPool2d(kernel_size=4, stride=4),\n",
        "            nn.Dropout(p=0.3),\n",
        "\n",
        "            # 3rd 2D convolution layer\n",
        "            nn.Conv2d(32, 64, kernel_size=3, stride=1, padding=1),\n",
        "            nn.BatchNorm2d(64),\n",
        "            nn.SELU(),\n",
        "            nn.MaxPool2d(kernel_size=4, stride=4)\n",
        "        )\n",
        "\n",
        "    def forward(self, x):\n",
        "        return self.encoder1(x)\n",
        "\n",
        "\n",
        "\n"
      ],
      "metadata": {
        "id": "UZfXC9Zebrf_"
      },
      "execution_count": 52,
      "outputs": []
    },
    {
      "cell_type": "code",
      "source": [
        "class Decoder1(nn.Module):\n",
        "    def __init__(self):\n",
        "        super(Decoder1, self).__init__()\n",
        "\n",
        "        self.decoder1 = nn.Sequential(\n",
        "            # 1st 2D transpose convolution layer\n",
        "            nn.ConvTranspose2d(64, 32, kernel_size=5, stride=(1, 4), padding=0, output_padding=(0, 2)),\n",
        "            nn.BatchNorm2d(32),\n",
        "            nn.SELU(),\n",
        "\n",
        "            # 2nd 2D transpose convolution layer\n",
        "            nn.ConvTranspose2d(32, 16, kernel_size=3, stride=4, padding=0, output_padding=(1, 2)),\n",
        "            nn.BatchNorm2d(16),\n",
        "            nn.SELU(),\n",
        "\n",
        "            # 3rd 2D transpose convolution layer\n",
        "            nn.ConvTranspose2d(16, 1, kernel_size=(3,7), stride=2, padding=1, output_padding=1)\n",
        "        )\n",
        "\n",
        "    def forward(self, x):\n",
        "        return self.decoder1(x)\n"
      ],
      "metadata": {
        "id": "8O8F62-AU8RZ"
      },
      "execution_count": 53,
      "outputs": []
    },
    {
      "cell_type": "code",
      "source": [
        "\n",
        "class Autoencoder1(nn.Module):\n",
        "    def __init__(self):\n",
        "        super(Autoencoder1, self).__init__()\n",
        "        self.encoder = Encoder1()\n",
        "        self.spatial_attention = SpatialAttention(64)\n",
        "        self.channel_attention = ChannelAttention(64)\n",
        "        self.decoder = Decoder1()\n",
        "\n",
        "    def forward(self, x):\n",
        "        encoded = self.encoder(x)\n",
        "        # print(\"encoded1:\", encoded.shape)\n",
        "        sa = self.spatial_attention(encoded)\n",
        "        # print(\"sa1:\",sa.shape)\n",
        "        ca = self.channel_attention(encoded)\n",
        "        # print(\"ca1:\", ca.shape)\n",
        "        att_encoded = sa + ca + encoded\n",
        "\n",
        "        decoded = self.decoder(att_encoded)\n",
        "        return encoded, decoded\n"
      ],
      "metadata": {
        "id": "vuaEWdW7U-Hn"
      },
      "execution_count": 54,
      "outputs": []
    },
    {
      "cell_type": "code",
      "source": [
        "# Example usage\n",
        "autoencoder = Autoencoder1()\n",
        "input_data = torch.randn(1, 1, 40, 94)  # Replace with your input shape\n",
        "encoded1, decoded1 = autoencoder(input_data)\n",
        "encoded1.shape, decoded1.shape"
      ],
      "metadata": {
        "id": "xIiTmfm8VBYb",
        "colab": {
          "base_uri": "https://localhost:8080/"
        },
        "outputId": "f86fd1fc-c38d-425b-8820-54ca756022ad"
      },
      "execution_count": 55,
      "outputs": [
        {
          "output_type": "execute_result",
          "data": {
            "text/plain": [
              "(torch.Size([1, 64, 1, 2]), torch.Size([1, 1, 40, 94]))"
            ]
          },
          "metadata": {},
          "execution_count": 55
        }
      ]
    },
    {
      "cell_type": "code",
      "source": [
        "import torch.nn as nn\n",
        "\n",
        "class Encoder2(nn.Module):\n",
        "    def __init__(self):\n",
        "        super(Encoder2, self).__init__()\n",
        "\n",
        "        # Define the 2D convolutional layers\n",
        "        self.conv2Dblock = nn.Sequential(\n",
        "            # 1st 2D convolution layer\n",
        "            nn.Conv2d(1, 16, kernel_size=3, stride=1, padding=1),\n",
        "            nn.BatchNorm2d(16),\n",
        "            nn.SELU(),\n",
        "            nn.MaxPool2d(kernel_size=2, stride=2),\n",
        "            nn.Dropout(p=0.3),\n",
        "\n",
        "            # 2nd 2D convolution layer\n",
        "            nn.Conv2d(16, 32, kernel_size=3, stride=1, padding=1),\n",
        "            nn.BatchNorm2d(32),\n",
        "            nn.SELU(),\n",
        "            nn.MaxPool2d(kernel_size=4, stride=4),\n",
        "            nn.Dropout(p=0.3),\n",
        "\n",
        "            # 3rd 2D convolution layer\n",
        "            nn.Conv2d(32, 64, kernel_size=3, stride=1, padding=1),\n",
        "            nn.BatchNorm2d(64),\n",
        "            nn.SELU(),\n",
        "            nn.MaxPool2d(kernel_size=4, stride=4),\n",
        "            nn.Dropout(p=0.3)\n",
        "        )\n",
        "\n",
        "    def forward(self, x):\n",
        "        # Pass the input through the convolutional layers\n",
        "        return self.conv2Dblock(x)\n",
        "\n"
      ],
      "metadata": {
        "id": "vYH4SzyKbXkw"
      },
      "execution_count": 56,
      "outputs": []
    },
    {
      "cell_type": "code",
      "source": [
        "import torch.nn as nn\n",
        "\n",
        "class Decoder2(nn.Module):\n",
        "    def __init__(self):\n",
        "        super(Decoder2, self).__init__()\n",
        "\n",
        "        # Define the 2D transposed convolutional layers for the decoder\n",
        "        self.decoder2 = nn.Sequential(\n",
        "            # 1st 2D transposed convolution layer\n",
        "            nn.ConvTranspose2d(64, 32, kernel_size=5, stride=(1, 4), padding=0, output_padding=(0, 2)),\n",
        "            nn.BatchNorm2d(32),\n",
        "            nn.SELU(),\n",
        "\n",
        "            # 2nd 2D transposed convolution layer\n",
        "            nn.ConvTranspose2d(32, 16, kernel_size=3, stride=4, padding=0, output_padding=(1, 2)),\n",
        "            nn.BatchNorm2d(16),\n",
        "            nn.SELU(),\n",
        "\n",
        "            # 3rd 2D transposed convolution layer\n",
        "            nn.ConvTranspose2d(16, 1, kernel_size=(3,7), stride=2, padding=1, output_padding=1)\n",
        "        )\n",
        "\n",
        "    def forward(self, x):\n",
        "        # Pass the input through the decoder's transposed convolutional layers\n",
        "        return self.decoder2(x)\n",
        "\n"
      ],
      "metadata": {
        "id": "TtOYsGn2bXYU"
      },
      "execution_count": 57,
      "outputs": []
    },
    {
      "cell_type": "code",
      "source": [
        "import torch.nn as nn\n",
        "\n",
        "class Autoencoder2(nn.Module):\n",
        "    def __init__(self):\n",
        "        super(Autoencoder2, self).__init__()\n",
        "\n",
        "        # Define the encoder and decoder\n",
        "        self.encoder = Encoder2()\n",
        "        self.spatial_attention = SpatialAttention(64)\n",
        "        self.channel_attention = ChannelAttention(64)\n",
        "        self.decoder = Decoder2()\n",
        "\n",
        "    def forward(self, x):\n",
        "        # Encode the input\n",
        "        encoded = self.encoder(x)\n",
        "        sa = self.spatial_attention(encoded)\n",
        "        ca = self.channel_attention(encoded)\n",
        "        att_encoded = sa + ca + encoded\n",
        "\n",
        "        # Decode the encoded representation\n",
        "        decoded = self.decoder(att_encoded)\n",
        "        return encoded, decoded\n",
        "# Example usage\n",
        "autoencoder2 = Autoencoder2()\n",
        "input_data = torch.randn(1, 1, 40, 94)  # Replace with your input shape\n",
        "encoded2, decoded2 = autoencoder2(input_data)\n",
        "encoded2.shape, decoded2.shape\n"
      ],
      "metadata": {
        "colab": {
          "base_uri": "https://localhost:8080/"
        },
        "id": "l8S9c0vKbXP7",
        "outputId": "c1e155f4-0b6a-457f-8dee-cb6fe76b678b"
      },
      "execution_count": 58,
      "outputs": [
        {
          "output_type": "execute_result",
          "data": {
            "text/plain": [
              "(torch.Size([1, 64, 1, 2]), torch.Size([1, 1, 40, 94]))"
            ]
          },
          "metadata": {},
          "execution_count": 58
        }
      ]
    },
    {
      "cell_type": "code",
      "source": [
        "import torch.nn as nn\n",
        "\n",
        "class TransformerBlock(nn.Module):\n",
        "    def __init__(self):\n",
        "        super(TransformerBlock, self).__init__()\n",
        "\n",
        "        # Maxpool the input feature map/tensor to the transformer\n",
        "        self.transformer_maxpool = nn.MaxPool2d(kernel_size=[1, 4], stride=[1, 4])\n",
        "\n",
        "        # Define a single transformer encoder layer\n",
        "        transformer_layer = nn.TransformerEncoderLayer(\n",
        "            d_model=40,            # Input feature (frequency) dim after max-pooling: 40*282 -> 40*70 (MFC * time)\n",
        "            nhead=4,               # Number of self-attention layers in each multi-head self-attention layer in each encoder block\n",
        "            dim_feedforward=512,   # Dimension for the feedforward network in each encoder block: 40 -> 512 -> 40\n",
        "            dropout=0.4,\n",
        "            activation='relu'      # Activation function (e.g., ReLU) for feedforward network\n",
        "        )\n",
        "\n",
        "        # The complete transformer block contains 4 full transformer encoder layers\n",
        "        self.transformer_encoder = nn.TransformerEncoder(transformer_layer, num_layers=4)\n",
        "\n",
        "    def forward(self, x):\n",
        "\n",
        "\n",
        "                ########## 4-encoder-layer Transformer block w/ 40-->512-->40 feedfwd network ##############\n",
        "        # maxpool input feature map: 1*40*282 w/ 1*4 kernel --> 1*40*70\n",
        "        x_maxpool = self.transformer_maxpool(x)\n",
        "\n",
        "        # remove channel dim: 1*40*70 --> 40*70\n",
        "        x_maxpool_reduced = torch.squeeze(x_maxpool,1)\n",
        "\n",
        "        # convert maxpooled feature map format: batch * freq * time ---> time * batch * freq format\n",
        "        # because transformer encoder layer requires tensor in format: time * batch * embedding (freq)\n",
        "        x = x_maxpool_reduced.permute(2,0,1)\n",
        "\n",
        "        # finally, pass reduced input feature map x into transformer encoder layers\n",
        "        transformer_output = self.transformer_encoder(x)\n",
        "\n",
        "        # create final feature emedding from transformer layer by taking mean in the time dimension (now the 0th dim)\n",
        "        # transformer outputs 2x40 (MFCC embedding*time) feature map, take mean of columns i.e. take time average\n",
        "        transformer_embedding = torch.mean(transformer_output, dim=0) # dim 40x70 --> 40\n",
        "        return transformer_embedding\n",
        "\n",
        "# You can use this TransformerBlock within your larger model as needed.\n"
      ],
      "metadata": {
        "id": "tdqK5CyM4H_n"
      },
      "execution_count": 59,
      "outputs": []
    },
    {
      "cell_type": "code",
      "source": [
        "try:\n",
        "  from transformers import Wav2Vec2Model, Wav2Vec2Processor\n",
        "except:\n",
        "  !pip install transformers\n",
        "  from transformers import Wav2Vec2Model, Wav2Vec2Processor\n"
      ],
      "metadata": {
        "id": "PpsDKlWozqZn",
        "colab": {
          "base_uri": "https://localhost:8080/"
        },
        "outputId": "e9e4b129-dc3b-48e5-d70c-04b0de9c4141"
      },
      "execution_count": 60,
      "outputs": [
        {
          "output_type": "stream",
          "name": "stdout",
          "text": [
            "Collecting transformers\n",
            "  Downloading transformers-4.35.0-py3-none-any.whl (7.9 MB)\n",
            "\u001b[2K     \u001b[90m━━━━━━━━━━━━━━━━━━━━━━━━━━━━━━━━━━━━━━━━\u001b[0m \u001b[32m7.9/7.9 MB\u001b[0m \u001b[31m51.1 MB/s\u001b[0m eta \u001b[36m0:00:00\u001b[0m\n",
            "\u001b[?25hRequirement already satisfied: filelock in /usr/local/lib/python3.10/dist-packages (from transformers) (3.13.1)\n",
            "Collecting huggingface-hub<1.0,>=0.16.4 (from transformers)\n",
            "  Downloading huggingface_hub-0.19.1-py3-none-any.whl (311 kB)\n",
            "\u001b[2K     \u001b[90m━━━━━━━━━━━━━━━━━━━━━━━━━━━━━━━━━━━━━━━━\u001b[0m \u001b[32m311.1/311.1 kB\u001b[0m \u001b[31m29.3 MB/s\u001b[0m eta \u001b[36m0:00:00\u001b[0m\n",
            "\u001b[?25hRequirement already satisfied: numpy>=1.17 in /usr/local/lib/python3.10/dist-packages (from transformers) (1.23.5)\n",
            "Requirement already satisfied: packaging>=20.0 in /usr/local/lib/python3.10/dist-packages (from transformers) (23.2)\n",
            "Requirement already satisfied: pyyaml>=5.1 in /usr/local/lib/python3.10/dist-packages (from transformers) (6.0.1)\n",
            "Requirement already satisfied: regex!=2019.12.17 in /usr/local/lib/python3.10/dist-packages (from transformers) (2023.6.3)\n",
            "Requirement already satisfied: requests in /usr/local/lib/python3.10/dist-packages (from transformers) (2.31.0)\n",
            "Collecting tokenizers<0.15,>=0.14 (from transformers)\n",
            "  Downloading tokenizers-0.14.1-cp310-cp310-manylinux_2_17_x86_64.manylinux2014_x86_64.whl (3.8 MB)\n",
            "\u001b[2K     \u001b[90m━━━━━━━━━━━━━━━━━━━━━━━━━━━━━━━━━━━━━━━━\u001b[0m \u001b[32m3.8/3.8 MB\u001b[0m \u001b[31m86.9 MB/s\u001b[0m eta \u001b[36m0:00:00\u001b[0m\n",
            "\u001b[?25hCollecting safetensors>=0.3.1 (from transformers)\n",
            "  Downloading safetensors-0.4.0-cp310-cp310-manylinux_2_17_x86_64.manylinux2014_x86_64.whl (1.3 MB)\n",
            "\u001b[2K     \u001b[90m━━━━━━━━━━━━━━━━━━━━━━━━━━━━━━━━━━━━━━━━\u001b[0m \u001b[32m1.3/1.3 MB\u001b[0m \u001b[31m74.5 MB/s\u001b[0m eta \u001b[36m0:00:00\u001b[0m\n",
            "\u001b[?25hRequirement already satisfied: tqdm>=4.27 in /usr/local/lib/python3.10/dist-packages (from transformers) (4.66.1)\n",
            "Requirement already satisfied: fsspec>=2023.5.0 in /usr/local/lib/python3.10/dist-packages (from huggingface-hub<1.0,>=0.16.4->transformers) (2023.6.0)\n",
            "Requirement already satisfied: typing-extensions>=3.7.4.3 in /usr/local/lib/python3.10/dist-packages (from huggingface-hub<1.0,>=0.16.4->transformers) (4.5.0)\n",
            "Collecting huggingface-hub<1.0,>=0.16.4 (from transformers)\n",
            "  Downloading huggingface_hub-0.17.3-py3-none-any.whl (295 kB)\n",
            "\u001b[2K     \u001b[90m━━━━━━━━━━━━━━━━━━━━━━━━━━━━━━━━━━━━━━━━\u001b[0m \u001b[32m295.0/295.0 kB\u001b[0m \u001b[31m26.7 MB/s\u001b[0m eta \u001b[36m0:00:00\u001b[0m\n",
            "\u001b[?25hRequirement already satisfied: charset-normalizer<4,>=2 in /usr/local/lib/python3.10/dist-packages (from requests->transformers) (3.3.2)\n",
            "Requirement already satisfied: idna<4,>=2.5 in /usr/local/lib/python3.10/dist-packages (from requests->transformers) (3.4)\n",
            "Requirement already satisfied: urllib3<3,>=1.21.1 in /usr/local/lib/python3.10/dist-packages (from requests->transformers) (2.0.7)\n",
            "Requirement already satisfied: certifi>=2017.4.17 in /usr/local/lib/python3.10/dist-packages (from requests->transformers) (2023.7.22)\n",
            "Installing collected packages: safetensors, huggingface-hub, tokenizers, transformers\n",
            "Successfully installed huggingface-hub-0.17.3 safetensors-0.4.0 tokenizers-0.14.1 transformers-4.35.0\n"
          ]
        }
      ]
    },
    {
      "cell_type": "code",
      "source": [
        "X_train.shape"
      ],
      "metadata": {
        "colab": {
          "base_uri": "https://localhost:8080/"
        },
        "id": "9TVnM56Tz1Wi",
        "outputId": "9612d581-ecde-47b5-94f4-191decee0172"
      },
      "execution_count": 61,
      "outputs": [
        {
          "output_type": "execute_result",
          "data": {
            "text/plain": [
              "(3441, 48000)"
            ]
          },
          "metadata": {},
          "execution_count": 61
        }
      ]
    },
    {
      "cell_type": "code",
      "source": [
        "import torch.nn as nn\n",
        "\n",
        "class EmotionClassifier(nn.Module):\n",
        "    def __init__(self, num_emotions):\n",
        "        super(EmotionClassifier, self).__init__()\n",
        "\n",
        "        # Linear softmax layer to take the final concatenated embedding tensor\n",
        "        # from parallel 2D convolutional and transformer blocks, output 8 logits\n",
        "        # Each full convolution block outputs (64*1*8) embedding flattened to dim 512 1D array\n",
        "        # Full transformer block outputs 40*70 feature map, which we time-avg to dim 40 1D array\n",
        "        # 512*2 + 40 == 1064 input features --> 8 output emotions\n",
        "        self.fc1_linear = nn.Linear(128*3 , 128)\n",
        "        self.fc2_linear = nn.Linear(128 , num_emotions)\n",
        "        self.drop = nn.Dropout(p=0.1)\n",
        "\n",
        "\n",
        "\n",
        "        # Softmax layer for the 8 output logits from the final FC linear layer\n",
        "        self.softmax_out = nn.Softmax(dim=1)  # dim==1 refers to the frequency embedding\n",
        "\n",
        "    def forward(self,x):\n",
        "\n",
        "        # Pass the concatenated features through the final linear layer\n",
        "        out1 = self.fc1_linear(x)\n",
        "        out1 = self.drop(out1)\n",
        "        output = self.fc2_linear(out1)\n",
        "\n",
        "\n",
        "        # Apply softmax to get the class probabilities\n",
        "        class_probs = self.softmax_out(output)\n",
        "\n",
        "        return output , class_probs\n",
        "\n",
        "# You can use this EmotionClassifier as part of your larger model to perform emotion classification.\n"
      ],
      "metadata": {
        "id": "3DfsBLsR463y"
      },
      "execution_count": 62,
      "outputs": []
    },
    {
      "cell_type": "code",
      "source": [
        "import torch\n",
        "import torch.nn as nn\n",
        "\n",
        "class CNNLinearModel(nn.Module):\n",
        "    def __init__(self):\n",
        "        super(CNNLinearModel, self).__init__()\n",
        "        self.conv1 = nn.Conv2d(1, 1, kernel_size=(4, 4), stride=(2, 2))\n",
        "        self.drop = nn.Dropout(p=0.1)\n",
        "        self.relu = nn.ReLU(inplace=True)\n",
        "        self.maxpool = nn.MaxPool2d(kernel_size=(2, 2), stride=(2, 2))\n",
        "        self.conv2 = nn.Conv2d(1, 1, kernel_size=(4, 4), stride=(2, 2))\n",
        "        self.fc1 = nn.Linear(376, 128)  # Adjust the input size based on your input shape\n",
        "\n",
        "    def forward(self, x):\n",
        "        x = self.conv1(x)\n",
        "        x = self.relu(x)\n",
        "        x = self.maxpool(x)\n",
        "        x = self.drop(x)\n",
        "        x = self.conv2(x)\n",
        "        x = self.relu(x)\n",
        "        x = self.maxpool(x)\n",
        "        x = self.drop(x)\n",
        "        x = torch.flatten(x, start_dim=1)\n",
        "        # print(x.shape)\n",
        "        x = self.fc1(x)\n",
        "        return x\n",
        "\n",
        "# Example usage\n",
        "batches, channels, height, width = 2, 1, 149, 768\n",
        "input_tensor = torch.randn(batches, channels, height, width)\n",
        "model = CNNLinearModel()\n",
        "print('Number of trainable params: ',sum(p.numel() for p in model.parameters()) )\n",
        "output_tensor = model(input_tensor)\n",
        "\n",
        "print(\"Input shape:\", input_tensor.shape)\n",
        "print(\"Output shape:\", output_tensor.shape)\n",
        "\n"
      ],
      "metadata": {
        "colab": {
          "base_uri": "https://localhost:8080/"
        },
        "id": "GMXQKZMEnkmg",
        "outputId": "5342e85d-43d8-4529-920a-d02cf2ce7604"
      },
      "execution_count": 63,
      "outputs": [
        {
          "output_type": "stream",
          "name": "stdout",
          "text": [
            "Number of trainable params:  48290\n",
            "Input shape: torch.Size([2, 1, 149, 768])\n",
            "Output shape: torch.Size([2, 128])\n"
          ]
        }
      ]
    },
    {
      "cell_type": "code",
      "source": [
        "# Combine the models\n",
        "\n",
        "\n",
        "\n",
        "class MultiTaskModel(nn.Module):\n",
        "    def __init__(self,num_emotions):\n",
        "\n",
        "        super(MultiTaskModel, self).__init__()\n",
        "        self.autoencoder1 = Autoencoder1()\n",
        "        self.autoencoder2 = Autoencoder2()\n",
        "        # self.transformerblock = TransformerBlock()\n",
        "        self.emotion_classifier = EmotionClassifier(num_emotions)\n",
        "        # self.w2c_linear1 = nn.Linear(149* 768 , 40)\n",
        "        # self.w2c_linear2 = nn.Linear(128 , 40)\n",
        "        self.reduce_w2v_dim = CNNLinearModel()\n",
        "        self.drop = nn.Dropout(p=0.1)\n",
        "\n",
        "\n",
        "\n",
        "    def forward(self, x, y):\n",
        "        w2v_features= y.reshape(-1,1,y.shape[1], y.shape[2])\n",
        "        # print(w2v_features.shape)\n",
        "\n",
        "        # print(\"w2v_features:\", w2v_features.shape)\n",
        "\n",
        "        w2v_fc1_embedding = self.reduce_w2v_dim(w2v_features)\n",
        "        # print(\"w2v_fc1_embedding:\", w2v_fc1_embedding.shape)\n",
        "\n",
        "        # w2v_fc2_embedding = torch.flatten(w2v_fc1_embedding, start_dim=0)\n",
        "        # print(\"w2v_fc2_embedding:\", w2v_fc2_embedding.shape)\n",
        "\n",
        "\n",
        "\n",
        "        encoded1, decoded1 = self.autoencoder1(x)\n",
        "        encoded1_embedding1 = torch.flatten(encoded1, start_dim=1)\n",
        "        # print(\"encoded1_embedding1\", encoded1_embedding1.shape)\n",
        "        encoded2, decoded2= self.autoencoder2(x)\n",
        "        encoded2_embedding2 = torch.flatten(encoded2, start_dim=1)\n",
        "        # print(\"encoded1_embedding2\", encoded2_embedding2.shape)\n",
        "\n",
        "\n",
        "        # transformer_embedding = self.transformerblock(x)\n",
        "\n",
        "        complete_embedding = torch.cat([encoded1_embedding1, encoded2_embedding2,w2v_fc1_embedding], dim=1)\n",
        "        complete_embedding = self.drop(complete_embedding)\n",
        "\n",
        "        # print(\"complete_embedding\", complete_embedding.shape)\n",
        "\n",
        "\n",
        "        output_logits, output_softmax = self.emotion_classifier(complete_embedding)\n",
        "\n",
        "        return decoded1, decoded2, output_logits, output_softmax"
      ],
      "metadata": {
        "id": "TdjcC_6p_j1T"
      },
      "execution_count": 64,
      "outputs": []
    },
    {
      "cell_type": "code",
      "source": [
        "# Example usage\n",
        "model = MultiTaskModel(num_emotions=8)\n",
        "print('Number of trainable params: ',sum(p.numel() for p in model.parameters()) )\n",
        "\n",
        "input_data = torch.randn(2, 1, 40, 94)  # Replace with your input shape\n",
        "input_data2 = torch.randn( 2, 149, 768)  # Replace with your input shape\n",
        "# print(input_data2.unsqueeze(dim=1).shape)\n",
        "# rrr= input_data2.unsqueeze(dim=1)\n",
        "decoded1, decoded2, output_logits, output_softmax = model(input_data,input_data2)\n",
        "decoded1.shape, decoded2.shape, output_logits, output_softmax\n"
      ],
      "metadata": {
        "colab": {
          "base_uri": "https://localhost:8080/"
        },
        "id": "c3y4K40_a-ZT",
        "outputId": "b71b6ca0-8e39-41f3-f7f5-cd3f1a1c9887"
      },
      "execution_count": 65,
      "outputs": [
        {
          "output_type": "stream",
          "name": "stdout",
          "text": [
            "Number of trainable params:  259638\n"
          ]
        },
        {
          "output_type": "execute_result",
          "data": {
            "text/plain": [
              "(torch.Size([2, 1, 40, 94]),\n",
              " torch.Size([2, 1, 40, 94]),\n",
              " tensor([[ 0.1038,  1.5927, -0.5812, -0.3042, -0.6161, -0.6874,  0.6243,  0.4554],\n",
              "         [-0.4772,  1.1506, -1.0221, -0.4588, -0.0208, -1.0207,  0.0266,  0.1532]],\n",
              "        grad_fn=<AddmmBackward0>),\n",
              " tensor([[0.0939, 0.4163, 0.0474, 0.0625, 0.0457, 0.0426, 0.1581, 0.1335],\n",
              "         [0.0747, 0.3805, 0.0433, 0.0761, 0.1179, 0.0434, 0.1237, 0.1404]],\n",
              "        grad_fn=<SoftmaxBackward0>))"
            ]
          },
          "metadata": {},
          "execution_count": 65
        }
      ]
    },
    {
      "cell_type": "code",
      "source": [
        "# Loss functions\n",
        "autoencoder_criterion = nn.MSELoss()  # Use Mean Squared Error for autoencoder loss\n",
        "classifier_criterion = nn.CrossEntropyLoss()  # Use Cross-Entropy for emotion classification loss\n",
        "optimizer = torch.optim.SGD(model.parameters(),lr=0.01, weight_decay=1e-3, momentum=0.8)"
      ],
      "metadata": {
        "id": "RYcFptSEdxHE"
      },
      "execution_count": 66,
      "outputs": []
    },
    {
      "cell_type": "code",
      "source": [],
      "metadata": {
        "id": "um-Jau0xNY5L"
      },
      "execution_count": 66,
      "outputs": []
    },
    {
      "cell_type": "code",
      "source": [
        "# define function to create a single step of the training phase\n",
        "def make_train_step(model, autoencoder_criterion, classifier_criterion, optimizer):\n",
        "\n",
        "    # define the training step of the training phase\n",
        "    def train_step(X, features, Y):\n",
        "        model.train()\n",
        "\n",
        "\n",
        "        # forward pass\n",
        "        decoded1, decoded2, output_logits, output_softmax  = model(X, features)\n",
        "        predictions = torch.argmax(output_softmax,dim=1)\n",
        "        accuracy = torch.sum(Y==predictions)/float(len(Y))\n",
        "\n",
        "        # Compute losses\n",
        "        autoencoder_loss1 = autoencoder_criterion(decoded1, X)\n",
        "        autoencoder_loss2 = autoencoder_criterion(decoded2, X)\n",
        "        classifier_loss = classifier_criterion(output_logits, Y)\n",
        "\n",
        "        # Define a trade-off parameter to balance losses\n",
        "        tradeoff = 0.4 # Adjust as needed\n",
        "\n",
        "        # Calculate the combined loss\n",
        "        loss = tradeoff * (autoencoder_loss1 + autoencoder_loss2) + (1 - tradeoff) * classifier_loss\n",
        "\n",
        "        # compute gradients for the optimizer to use\n",
        "        loss.backward()\n",
        "\n",
        "        # update network parameters based on gradient stored (by calling loss.backward())\n",
        "        optimizer.step()\n",
        "\n",
        "        # zero out gradients for next pass\n",
        "        # pytorch accumulates gradients from backwards passes (convenient for RNNs)\n",
        "        optimizer.zero_grad()\n",
        "\n",
        "        return loss.item(), accuracy*100, autoencoder_loss1.item(), autoencoder_loss2.item(), classifier_loss.item()\n",
        "    return train_step"
      ],
      "metadata": {
        "id": "3MQ6t3m0kaeg"
      },
      "execution_count": 67,
      "outputs": []
    },
    {
      "cell_type": "code",
      "source": [
        "def make_validate_fnc(model,autoencoder_criterion, classifier_criterion):\n",
        "    def validate(X,features,Y):\n",
        "\n",
        "        # don't want to update any network parameters on validation passes: don't need gradient\n",
        "        # wrap in torch.no_grad to save memory and compute in validation phase:\n",
        "        with torch.no_grad():\n",
        "\n",
        "            # set model to validation phase i.e. turn off dropout and batchnorm layers\n",
        "            model.eval()\n",
        "\n",
        "            # get the model's predictions on the validation set\n",
        "            decoded1, decoded2, output_logits, output_softmax  = model(X, features)\n",
        "            predictions = torch.argmax(output_softmax,dim=1)\n",
        "\n",
        "            # calculate the mean accuracy over the entire validation set\n",
        "            accuracy = torch.sum(Y==predictions)/float(len(Y))\n",
        "\n",
        "            # Compute losses\n",
        "            autoencoder_loss1 = autoencoder_criterion(decoded1, X)\n",
        "            autoencoder_loss2 = autoencoder_criterion(decoded2, X)\n",
        "            classifier_loss = classifier_criterion(output_logits, Y)\n",
        "\n",
        "            # compute error from logits (nn.crossentropy implements softmax)\n",
        "            # Define a trade-off parameter to balance losses\n",
        "            tradeoff = 0.4 # Adjust as needed\n",
        "\n",
        "            # Calculate the combined loss\n",
        "            loss = tradeoff * (autoencoder_loss1 + autoencoder_loss2) + (1 - tradeoff) * classifier_loss\n",
        "\n",
        "\n",
        "        return loss.item(), accuracy*100, autoencoder_loss1.item(), autoencoder_loss2.item(), classifier_loss.item(), predictions\n",
        "    return validate"
      ],
      "metadata": {
        "id": "yLHclkxGx9vP"
      },
      "execution_count": 68,
      "outputs": []
    },
    {
      "cell_type": "code",
      "source": [
        "def make_save_checkpoint():\n",
        "    def save_checkpoint(optimizer, model, epoch, filename):\n",
        "        checkpoint_dict = {\n",
        "            'optimizer': optimizer.state_dict(),\n",
        "            'model': model.state_dict(),\n",
        "            'epoch': epoch\n",
        "        }\n",
        "        torch.save(checkpoint_dict, filename)\n",
        "    return save_checkpoint\n",
        "\n",
        "def load_checkpoint(optimizer, model, filename):\n",
        "    checkpoint_dict = torch.load(filename)\n",
        "    epoch = checkpoint_dict['epoch']\n",
        "    model.load_state_dict(checkpoint_dict['model'])\n",
        "    if optimizer is not None:\n",
        "        optimizer.load_state_dict(checkpoint_dict['optimizer'])\n",
        "    return epoch"
      ],
      "metadata": {
        "id": "qlELYNnnyUUD"
      },
      "execution_count": 69,
      "outputs": []
    },
    {
      "cell_type": "code",
      "source": [
        "# get training set size to calculate # iterations and minibatch indices\n",
        "train_size = X_train.shape[0]\n",
        "\n",
        "# pick minibatch size (of 32... always)\n",
        "minibatch = 32\n",
        "\n",
        "# set device to GPU\n",
        "device = 'cuda' if torch.cuda.is_available() else 'cpu'\n",
        "print(f'{device} selected')\n",
        "\n"
      ],
      "metadata": {
        "colab": {
          "base_uri": "https://localhost:8080/"
        },
        "id": "HqDdx6tCLvjV",
        "outputId": "ec3fbca1-6929-4638-8e33-25a88e8d3ad2"
      },
      "execution_count": 70,
      "outputs": [
        {
          "output_type": "stream",
          "name": "stdout",
          "text": [
            "cpu selected\n"
          ]
        }
      ]
    },
    {
      "cell_type": "code",
      "source": [
        "# instantiate model and move to GPU for training\n",
        "model = MultiTaskModel(num_emotions=len(emotions_dict)).to(device)\n",
        "print('Number of trainable params: ',sum(p.numel() for p in model.parameters()) )"
      ],
      "metadata": {
        "colab": {
          "base_uri": "https://localhost:8080/"
        },
        "id": "GwTutLftLzGm",
        "outputId": "d47753fc-90bb-4e51-c913-db4c1584d263"
      },
      "execution_count": 71,
      "outputs": [
        {
          "output_type": "stream",
          "name": "stdout",
          "text": [
            "Number of trainable params:  259638\n"
          ]
        }
      ]
    },
    {
      "cell_type": "code",
      "source": [
        "# encountered bugs in google colab only, unless I explicitly defined optimizer in this cell...\n",
        "optimizer = torch.optim.SGD(model.parameters(),lr=0.1, weight_decay=1e-3, momentum=0.8)\n",
        "# Loss functions\n",
        "autoencoder_criterion = nn.MSELoss()  # Use Mean Squared Error for autoencoder loss\n",
        "classifier_criterion = nn.CrossEntropyLoss()  # Use Cross-Entropy for emotion classification loss"
      ],
      "metadata": {
        "id": "XIvcVjmLL2GW"
      },
      "execution_count": 72,
      "outputs": []
    },
    {
      "cell_type": "code",
      "source": [
        "# instantiate the checkpoint save function\n",
        "save_checkpoint = make_save_checkpoint()\n",
        "\n",
        "# instantiate the training step function\n",
        "train_step = make_train_step(model, autoencoder_criterion, classifier_criterion, optimizer=optimizer)\n",
        "\n",
        "# instantiate the validation loop function\n",
        "validate = make_validate_fnc(model,autoencoder_criterion, classifier_criterion)\n",
        "\n"
      ],
      "metadata": {
        "id": "VRsAfkRZL84X"
      },
      "execution_count": 73,
      "outputs": []
    },
    {
      "cell_type": "code",
      "source": [
        "# instantiate lists to hold scalar performance metrics to plot later\n",
        "train_losses=[]\n",
        "valid_losses = []\n",
        "train_autoencoder_losses1=[]\n",
        "train_autoencoder_losses2=[]\n",
        "train_classifier_losses=[]\n",
        "\n",
        "\n",
        "valid_autoencoder_losses1=[]\n",
        "valid_autoencoder_losses2=[]\n",
        "valid_classifier_losses=[]"
      ],
      "metadata": {
        "id": "h2xNDb87YpRN"
      },
      "execution_count": 74,
      "outputs": []
    },
    {
      "cell_type": "code",
      "source": [
        "\n",
        "# Load the pretrained model and processor\n",
        "processor = Wav2Vec2Processor.from_pretrained(\"facebook/wav2vec2-base-960h\")\n",
        "w2v = Wav2Vec2Model.from_pretrained(\"facebook/wav2vec2-base-960h\")"
      ],
      "metadata": {
        "colab": {
          "base_uri": "https://localhost:8080/",
          "height": 264,
          "referenced_widgets": [
            "4449722dc15345cbac2739053315cb23",
            "9e1eee76c862456ea6ba559ce5743950",
            "a9149d985a31401fbd17ee52aa2aa21e",
            "22006d5d3c2749948de74bd93242dbfc",
            "4696ca36ae5944dda2da0c47ca29a998",
            "9682724097b449aa8e1df71b84c45cc0",
            "ddac57a277cd4850922b7532bc406f1a",
            "14f4d0eda75c43d3ac75a716f8bd8cc9",
            "b2914ac7e4e5485f9f5510c91164ca6e",
            "1a1f14158d974f379446cf350c9621a3",
            "3664921a736a43ec8b2a98a3bdd16341",
            "37e9a2858bcb4f1793da1bbd951d3b7c",
            "f0ae9a5e6019436fa38d236f76f59c84",
            "44383431643443b8bcd64e0f0427f3e5",
            "f9b552df44a04969bf972b0c7d3c1382",
            "b2054b6112e843d984817548195f198f",
            "e581f43c1f0c4e8393ceefe6bacf9bd4",
            "399e579822404a6198fea3846d13201d",
            "cbaf42a9e7914f47a72882c12386ba9a",
            "59b947c294984355b1fa4b49f1795113",
            "2e7a5676da8a40188c2b0a9fe7219ddf",
            "a2fa2e3d10bc41259b5cae7a58c72182",
            "7bd1a466a5934a72867a28cad47c53b1",
            "00e022719f78443ea002d730a0401cc7",
            "513ac6994bf249bebbea75549ecbf6c1",
            "b2b52ce59bd646b6ba3b4141e322d7dc",
            "cf8a3361657e4987b9ec438903901a99",
            "846d5e4a5f1048498d6ab7c866670954",
            "ce96bb8b97a8466db2ca4dd0d34bf116",
            "1502142a8bfe46b5a22da610885a662e",
            "be7c98235ab142009a3e8142e546abca",
            "4941cf7f759943758d92affd0eae8588",
            "6db2bf70f3c54be4a181aafb61e82f73",
            "c8fc88cd2e2c4d7583551ad34d27cca5",
            "42a68bc6aced494aa3bb2f69b402dabb",
            "3ebee31d6a6a4cbaab856d20be415dde",
            "3edb8ccc6edd413faab5236676eea8b3",
            "c2bc291bbf3c4c5f8dfb0c40aac0ccb2",
            "8392251703c744308e75b6551635fff0",
            "c20c2646d8ca404f818ed28c2361849f",
            "303199c9844d480bad176a7f5927a4d9",
            "baf3b2f421b743bd97f39f45002f2985",
            "196f2e8cd449411391b0ac1eb9d8a14b",
            "2415bc5534884e959c025d52983f0b88",
            "519a564bad84484aaf3e41ce0d5e2002",
            "31cd4306f88b4b518d99ad88edd3f419",
            "9d2d07230f324f1fad9397bec1baa2b4",
            "7c3a259c1cf74c24bea2585c9b5c7547",
            "48b8209eeac046b0833224c36fee1c52",
            "9d740fc7ac48423a90dc41c17cb746e0",
            "8cef33857a4c4498adc90b4509edd096",
            "f0721d7af56e46ad80f27cfe920b74fc",
            "fd156f0e6e7e44e7b57cf3b839fa759b",
            "db1b5a5bc041414587e255fe7b4e0a84",
            "2e520161106c42d29108c58915f7ea73",
            "4979436fb5f34afbaaa484907f9ccdf6",
            "b21ebe7b0c654abca77d88c8f44554b0",
            "4ae34da12e184c449977512a7b9f3fd3",
            "f523738e26484e6ba160d2ea1047f358",
            "5a35d9cef8e74ca095b18dd708660160",
            "298653d4058a4387ac6497505852d050",
            "32f574ee7a024dbc8c0b587eb434d496",
            "558bdf9217b743c8ba0bfe29fc71736f",
            "3c25bcaba8af4f388db84038bc460888",
            "aa6b197ae4584206875e5840f96f0902",
            "a88f15aea903478994d6d9ef9f9464e6"
          ]
        },
        "id": "X216zyEUzerO",
        "outputId": "efe1f2c2-c027-4bc3-cfbe-57af16acc40c"
      },
      "execution_count": 75,
      "outputs": [
        {
          "output_type": "display_data",
          "data": {
            "text/plain": [
              "Downloading (…)rocessor_config.json:   0%|          | 0.00/159 [00:00<?, ?B/s]"
            ],
            "application/vnd.jupyter.widget-view+json": {
              "version_major": 2,
              "version_minor": 0,
              "model_id": "4449722dc15345cbac2739053315cb23"
            }
          },
          "metadata": {}
        },
        {
          "output_type": "display_data",
          "data": {
            "text/plain": [
              "Downloading (…)okenizer_config.json:   0%|          | 0.00/163 [00:00<?, ?B/s]"
            ],
            "application/vnd.jupyter.widget-view+json": {
              "version_major": 2,
              "version_minor": 0,
              "model_id": "37e9a2858bcb4f1793da1bbd951d3b7c"
            }
          },
          "metadata": {}
        },
        {
          "output_type": "display_data",
          "data": {
            "text/plain": [
              "Downloading (…)lve/main/config.json:   0%|          | 0.00/1.60k [00:00<?, ?B/s]"
            ],
            "application/vnd.jupyter.widget-view+json": {
              "version_major": 2,
              "version_minor": 0,
              "model_id": "7bd1a466a5934a72867a28cad47c53b1"
            }
          },
          "metadata": {}
        },
        {
          "output_type": "display_data",
          "data": {
            "text/plain": [
              "Downloading (…)olve/main/vocab.json:   0%|          | 0.00/291 [00:00<?, ?B/s]"
            ],
            "application/vnd.jupyter.widget-view+json": {
              "version_major": 2,
              "version_minor": 0,
              "model_id": "c8fc88cd2e2c4d7583551ad34d27cca5"
            }
          },
          "metadata": {}
        },
        {
          "output_type": "display_data",
          "data": {
            "text/plain": [
              "Downloading (…)cial_tokens_map.json:   0%|          | 0.00/85.0 [00:00<?, ?B/s]"
            ],
            "application/vnd.jupyter.widget-view+json": {
              "version_major": 2,
              "version_minor": 0,
              "model_id": "519a564bad84484aaf3e41ce0d5e2002"
            }
          },
          "metadata": {}
        },
        {
          "output_type": "display_data",
          "data": {
            "text/plain": [
              "Downloading model.safetensors:   0%|          | 0.00/378M [00:00<?, ?B/s]"
            ],
            "application/vnd.jupyter.widget-view+json": {
              "version_major": 2,
              "version_minor": 0,
              "model_id": "4979436fb5f34afbaaa484907f9ccdf6"
            }
          },
          "metadata": {}
        },
        {
          "output_type": "stream",
          "name": "stderr",
          "text": [
            "Some weights of Wav2Vec2Model were not initialized from the model checkpoint at facebook/wav2vec2-base-960h and are newly initialized: ['wav2vec2.encoder.pos_conv_embed.conv.parametrizations.weight.original1', 'wav2vec2.masked_spec_embed', 'wav2vec2.encoder.pos_conv_embed.conv.parametrizations.weight.original0']\n",
            "You should probably TRAIN this model on a down-stream task to be able to use it for predictions and inference.\n"
          ]
        }
      ]
    },
    {
      "cell_type": "code",
      "source": [
        "# features_train\n",
        "# features_valid\n",
        "# features_test"
      ],
      "metadata": {
        "id": "uT0GgS9mNxI5"
      },
      "execution_count": 76,
      "outputs": []
    },
    {
      "cell_type": "code",
      "source": [
        "# create training loop for one complete epoch (entire training set)\n",
        "def train(optimizer, model, num_epochs, X_train, Features_train, Y_train, X_valid, features_valid, Y_valid):\n",
        "\n",
        "\n",
        "    for epoch in range(num_epochs):\n",
        "\n",
        "        # set model to train phase\n",
        "        model.train()\n",
        "\n",
        "        # shuffle entire training set in each epoch to randomize minibatch order\n",
        "        train_indices = np.random.permutation(train_size)\n",
        "\n",
        "        # shuffle the training set for each epoch:\n",
        "        Features_train = Features_train[train_indices,:,:,:]\n",
        "        X_train = X_train[train_indices,:]\n",
        "        Y_train = Y_train[train_indices]\n",
        "\n",
        "\n",
        "        # instantiate scalar values to keep track of progress after each epoch so we can stop training when appropriate\n",
        "        epoch_acc = 0\n",
        "        epoch_loss = 0\n",
        "        epoch_autoencoder_loss1 = 0\n",
        "        epoch_autoencoder_loss2 = 0\n",
        "        epoch_classifier_loss = 0\n",
        "\n",
        "\n",
        "\n",
        "\n",
        "        num_iterations = int(train_size / minibatch)\n",
        "\n",
        "        # create a loop for each minibatch of 32 samples:\n",
        "        for i in range(num_iterations):\n",
        "\n",
        "            # we have to track and update minibatch position for the current minibatch\n",
        "            # if we take a random batch position from a set, we almost certainly will skip some of the data in that set\n",
        "            # track minibatch position based on iteration number:\n",
        "            batch_start = i * minibatch\n",
        "            # ensure we don't go out of the bounds of our training set:\n",
        "            batch_end = min(batch_start + minibatch, train_size)\n",
        "            # ensure we don't have an index error\n",
        "            actual_batch_size = batch_end-batch_start\n",
        "\n",
        "            # get training minibatch with all channnels and 2D feature dims\n",
        "            features_train = Features_train[batch_start:batch_end,:,:,:]\n",
        "            # print('\\n',features_train.shape)\n",
        "\n",
        "            X = X_train[batch_start:batch_end,:]\n",
        "            # print(\"pr:\", X.shape)\n",
        "\n",
        "            audio_input = processor(X,\n",
        "                                    sampling_rate=16000,\n",
        "                                    return_tensors=\"pt\")\n",
        "            with torch.no_grad():\n",
        "              X = w2v(**audio_input).last_hidden_state\n",
        "\n",
        "            # print(\"after:\", X.shape)\n",
        "\n",
        "\n",
        "\n",
        "\n",
        "            # get training minibatch labels\n",
        "            Y = Y_train[batch_start:batch_end]\n",
        "\n",
        "            # instantiate training tensors\n",
        "            X_tensor = torch.tensor(X, device=device).float()\n",
        "            features_train = torch.tensor(features_train, device=device).float()\n",
        "\n",
        "            Y_tensor = torch.tensor(Y, dtype=torch.long,device=device)\n",
        "            # Pass input tensors thru 1 training step (fwd+backwards pass)\n",
        "\n",
        "            loss, acc, autoencoder_loss1, autoencoder_loss2, classifier_loss = train_step(features_train, X_tensor,Y_tensor)\n",
        "\n",
        "            # aggregate batch accuracy to measure progress of entire epoch\n",
        "            epoch_acc += acc * actual_batch_size / train_size\n",
        "            epoch_loss += loss * actual_batch_size / train_size\n",
        "            epoch_autoencoder_loss1 += autoencoder_loss1 * actual_batch_size / train_size\n",
        "            epoch_autoencoder_loss2 += autoencoder_loss2 * actual_batch_size / train_size\n",
        "            epoch_classifier_loss += classifier_loss * actual_batch_size / train_size\n",
        "\n",
        "\n",
        "\n",
        "            # keep track of the iteration to see if the model's too slow\n",
        "            print('\\r'+f'Epoch {epoch}: iteration {i}/{num_iterations}',end='')\n",
        "\n",
        "        # create tensors from validation set\n",
        "        valid_audio_input = processor(X_valid,\n",
        "                                      sampling_rate=16000,\n",
        "                                      return_tensors=\"pt\")\n",
        "        with torch.no_grad():\n",
        "          valid_audio_input_feature = w2v(**valid_audio_input).last_hidden_state\n",
        "        X_valid_tensor = torch.tensor(valid_audio_input_feature,device=device).float()\n",
        "        features_valid = torch.tensor(features_valid,device=device).float()\n",
        "        Y_valid_tensor = torch.tensor(Y_valid,dtype=torch.long,device=device)\n",
        "\n",
        "        # calculate validation metrics to keep track of progress; don't need predictions now\n",
        "        valid_loss, valid_acc, valid_autoencoder_loss1, valid_autoencoder_loss2, valid_classifier_loss, _ = validate(features_valid,\n",
        "                                                                                                                    X_valid_tensor,\n",
        "                                                                                                                     Y_valid_tensor)\n",
        "\n",
        "        # accumulate scalar performance metrics at each epoch to track and plot later\n",
        "        train_losses.append(epoch_loss)\n",
        "        train_autoencoder_losses1.append(epoch_autoencoder_loss1)\n",
        "        train_autoencoder_losses2.append(epoch_autoencoder_loss2)\n",
        "        train_classifier_losses.append(epoch_classifier_loss)\n",
        "\n",
        "        valid_losses.append(valid_loss)\n",
        "        valid_autoencoder_losses1.append(valid_autoencoder_loss1)\n",
        "        valid_autoencoder_losses2.append(valid_autoencoder_loss2)\n",
        "        valid_classifier_losses.append(valid_classifier_loss)\n",
        "\n",
        "\n",
        "        # Save checkpoint of the model\n",
        "        checkpoint_filename = '/content/parallel_all_you_wantFINAL.pkl'.format(epoch)\n",
        "        save_checkpoint(optimizer, model, epoch, checkpoint_filename)\n",
        "\n",
        "        # keep track of each epoch's progress\n",
        "        print(f'\\nEpoch {epoch} --- loss:{epoch_loss:.3f}, Epoch accuracy:{epoch_acc:.2f}%, Validation loss:{valid_loss:.3f}, Validation accuracy:{valid_acc:.2f}%')\n",
        "        print(f'\\nEpoch {epoch} --- epoch_autoencoder_loss1:{epoch_autoencoder_loss1:.3f}, epoch_autoencoder_loss2:{epoch_autoencoder_loss2:.2f}, epoch_classifier_loss:{epoch_classifier_loss:.3f}')\n",
        "        print(f'\\nEpoch {epoch} --- valid_autoencoder_loss1:{valid_autoencoder_loss1:.3f}, valid_autoencoder_loss2:{valid_autoencoder_loss2:.2f}, valid_classifier_loss:{valid_classifier_loss:.3f}\\n\\n')\n",
        "\n",
        "\n"
      ],
      "metadata": {
        "id": "nQGzOwHCLhMs"
      },
      "execution_count": 77,
      "outputs": []
    },
    {
      "cell_type": "code",
      "source": [
        "# choose number of epochs higher than reasonable so we can manually stop training\n",
        "num_epochs = 500\n",
        "\n",
        "# train it!\n",
        "train(optimizer, model, num_epochs, X_train, features_train, y_train, X_valid, features_valid, y_valid)"
      ],
      "metadata": {
        "id": "eIonIcW5Alq8",
        "colab": {
          "base_uri": "https://localhost:8080/"
        },
        "outputId": "4f1a065e-16f1-4b60-ac6f-64d66da0966e"
      },
      "execution_count": null,
      "outputs": [
        {
          "output_type": "stream",
          "name": "stdout",
          "text": [
            "Epoch 0: iteration 106/107\n",
            "Epoch 0 --- loss:2.869, Epoch accuracy:24.41%, Validation loss:1.907, Validation accuracy:33.57%\n",
            "\n",
            "Epoch 0 --- epoch_autoencoder_loss1:1.041, epoch_autoencoder_loss2:1.05, epoch_classifier_loss:3.390\n",
            "\n",
            "Epoch 0 --- valid_autoencoder_loss1:1.024, valid_autoencoder_loss2:1.02, valid_classifier_loss:1.816\n",
            "\n",
            "\n",
            "Epoch 1: iteration 106/107\n",
            "Epoch 1 --- loss:1.768, Epoch accuracy:37.31%, Validation loss:1.706, Validation accuracy:43.12%\n",
            "\n",
            "Epoch 1 --- epoch_autoencoder_loss1:0.967, epoch_autoencoder_loss2:0.97, epoch_classifier_loss:1.653\n",
            "\n",
            "Epoch 1 --- valid_autoencoder_loss1:0.994, valid_autoencoder_loss2:1.00, valid_classifier_loss:1.515\n",
            "\n",
            "\n",
            "Epoch 2: iteration 106/107\n",
            "Epoch 2 --- loss:1.663, Epoch accuracy:42.87%, Validation loss:1.670, Validation accuracy:44.76%\n",
            "\n",
            "Epoch 2 --- epoch_autoencoder_loss1:0.949, epoch_autoencoder_loss2:0.96, epoch_classifier_loss:1.499\n",
            "\n",
            "Epoch 2 --- valid_autoencoder_loss1:0.975, valid_autoencoder_loss2:0.99, valid_classifier_loss:1.474\n",
            "\n",
            "\n",
            "Epoch 3: iteration 106/107\n",
            "Epoch 3 --- loss:1.591, Epoch accuracy:46.82%, Validation loss:1.651, Validation accuracy:41.03%\n",
            "\n",
            "Epoch 3 --- epoch_autoencoder_loss1:0.938, epoch_autoencoder_loss2:0.96, epoch_classifier_loss:1.389\n",
            "\n",
            "Epoch 3 --- valid_autoencoder_loss1:0.969, valid_autoencoder_loss2:0.98, valid_classifier_loss:1.453\n",
            "\n",
            "\n",
            "Epoch 4: iteration 106/107\n",
            "Epoch 4 --- loss:1.537, Epoch accuracy:49.99%, Validation loss:1.566, Validation accuracy:52.91%\n",
            "\n",
            "Epoch 4 --- epoch_autoencoder_loss1:0.932, epoch_autoencoder_loss2:0.95, epoch_classifier_loss:1.306\n",
            "\n",
            "Epoch 4 --- valid_autoencoder_loss1:0.960, valid_autoencoder_loss2:0.97, valid_classifier_loss:1.323\n",
            "\n",
            "\n",
            "Epoch 5: iteration 106/107\n",
            "Epoch 5 --- loss:1.487, Epoch accuracy:53.88%, Validation loss:1.585, Validation accuracy:53.15%\n",
            "\n",
            "Epoch 5 --- epoch_autoencoder_loss1:0.927, epoch_autoencoder_loss2:0.94, epoch_classifier_loss:1.230\n",
            "\n",
            "Epoch 5 --- valid_autoencoder_loss1:0.958, valid_autoencoder_loss2:0.97, valid_classifier_loss:1.355\n",
            "\n",
            "\n",
            "Epoch 6: iteration 106/107\n",
            "Epoch 6 --- loss:1.442, Epoch accuracy:55.86%, Validation loss:1.536, Validation accuracy:53.61%\n",
            "\n",
            "Epoch 6 --- epoch_autoencoder_loss1:0.924, epoch_autoencoder_loss2:0.94, epoch_classifier_loss:1.159\n",
            "\n",
            "Epoch 6 --- valid_autoencoder_loss1:0.952, valid_autoencoder_loss2:0.96, valid_classifier_loss:1.283\n",
            "\n",
            "\n",
            "Epoch 7: iteration 106/107\n",
            "Epoch 7 --- loss:1.413, Epoch accuracy:57.45%, Validation loss:1.562, Validation accuracy:51.98%\n",
            "\n",
            "Epoch 7 --- epoch_autoencoder_loss1:0.921, epoch_autoencoder_loss2:0.94, epoch_classifier_loss:1.115\n",
            "\n",
            "Epoch 7 --- valid_autoencoder_loss1:0.952, valid_autoencoder_loss2:0.97, valid_classifier_loss:1.324\n",
            "\n",
            "\n",
            "Epoch 8: iteration 106/107\n",
            "Epoch 8 --- loss:1.377, Epoch accuracy:60.16%, Validation loss:1.551, Validation accuracy:53.85%\n",
            "\n",
            "Epoch 8 --- epoch_autoencoder_loss1:0.920, epoch_autoencoder_loss2:0.94, epoch_classifier_loss:1.055\n",
            "\n",
            "Epoch 8 --- valid_autoencoder_loss1:0.952, valid_autoencoder_loss2:0.96, valid_classifier_loss:1.313\n",
            "\n",
            "\n",
            "Epoch 9: iteration 106/107\n",
            "Epoch 9 --- loss:1.344, Epoch accuracy:62.63%, Validation loss:1.526, Validation accuracy:60.61%\n",
            "\n",
            "Epoch 9 --- epoch_autoencoder_loss1:0.918, epoch_autoencoder_loss2:0.94, epoch_classifier_loss:1.002\n",
            "\n",
            "Epoch 9 --- valid_autoencoder_loss1:0.950, valid_autoencoder_loss2:0.96, valid_classifier_loss:1.271\n",
            "\n",
            "\n",
            "Epoch 10: iteration 106/107\n",
            "Epoch 10 --- loss:1.331, Epoch accuracy:62.83%, Validation loss:1.449, Validation accuracy:58.28%\n",
            "\n",
            "Epoch 10 --- epoch_autoencoder_loss1:0.917, epoch_autoencoder_loss2:0.94, epoch_classifier_loss:0.982\n",
            "\n",
            "Epoch 10 --- valid_autoencoder_loss1:0.948, valid_autoencoder_loss2:0.96, valid_classifier_loss:1.140\n",
            "\n",
            "\n",
            "Epoch 11: iteration 106/107\n",
            "Epoch 11 --- loss:1.308, Epoch accuracy:64.49%, Validation loss:1.537, Validation accuracy:54.78%\n",
            "\n",
            "Epoch 11 --- epoch_autoencoder_loss1:0.917, epoch_autoencoder_loss2:0.94, epoch_classifier_loss:0.944\n",
            "\n",
            "Epoch 11 --- valid_autoencoder_loss1:0.944, valid_autoencoder_loss2:0.96, valid_classifier_loss:1.293\n",
            "\n",
            "\n",
            "Epoch 12: iteration 106/107\n",
            "Epoch 12 --- loss:1.273, Epoch accuracy:67.74%, Validation loss:1.439, Validation accuracy:58.51%\n",
            "\n",
            "Epoch 12 --- epoch_autoencoder_loss1:0.915, epoch_autoencoder_loss2:0.93, epoch_classifier_loss:0.889\n",
            "\n",
            "Epoch 12 --- valid_autoencoder_loss1:0.944, valid_autoencoder_loss2:0.96, valid_classifier_loss:1.130\n",
            "\n",
            "\n",
            "Epoch 13: iteration 106/107\n",
            "Epoch 13 --- loss:1.263, Epoch accuracy:66.67%, Validation loss:1.437, Validation accuracy:58.74%\n",
            "\n",
            "Epoch 13 --- epoch_autoencoder_loss1:0.913, epoch_autoencoder_loss2:0.93, epoch_classifier_loss:0.874\n",
            "\n",
            "Epoch 13 --- valid_autoencoder_loss1:0.946, valid_autoencoder_loss2:0.95, valid_classifier_loss:1.129\n",
            "\n",
            "\n",
            "Epoch 14: iteration 106/107\n",
            "Epoch 14 --- loss:1.241, Epoch accuracy:68.27%, Validation loss:1.445, Validation accuracy:60.84%\n",
            "\n",
            "Epoch 14 --- epoch_autoencoder_loss1:0.913, epoch_autoencoder_loss2:0.93, epoch_classifier_loss:0.837\n",
            "\n",
            "Epoch 14 --- valid_autoencoder_loss1:0.941, valid_autoencoder_loss2:0.95, valid_classifier_loss:1.144\n",
            "\n",
            "\n",
            "Epoch 15: iteration 106/107\n",
            "Epoch 15 --- loss:1.213, Epoch accuracy:69.72%, Validation loss:1.589, Validation accuracy:53.85%\n",
            "\n",
            "Epoch 15 --- epoch_autoencoder_loss1:0.910, epoch_autoencoder_loss2:0.93, epoch_classifier_loss:0.793\n",
            "\n",
            "Epoch 15 --- valid_autoencoder_loss1:0.941, valid_autoencoder_loss2:0.95, valid_classifier_loss:1.384\n",
            "\n",
            "\n",
            "Epoch 16: iteration 106/107\n",
            "Epoch 16 --- loss:1.216, Epoch accuracy:70.04%, Validation loss:1.455, Validation accuracy:57.58%\n",
            "\n",
            "Epoch 16 --- epoch_autoencoder_loss1:0.909, epoch_autoencoder_loss2:0.93, epoch_classifier_loss:0.801\n",
            "\n",
            "Epoch 16 --- valid_autoencoder_loss1:0.938, valid_autoencoder_loss2:0.95, valid_classifier_loss:1.164\n",
            "\n",
            "\n",
            "Epoch 17: iteration 106/107\n",
            "Epoch 17 --- loss:1.203, Epoch accuracy:70.94%, Validation loss:1.923, Validation accuracy:47.32%\n",
            "\n",
            "Epoch 17 --- epoch_autoencoder_loss1:0.909, epoch_autoencoder_loss2:0.93, epoch_classifier_loss:0.778\n",
            "\n",
            "Epoch 17 --- valid_autoencoder_loss1:0.935, valid_autoencoder_loss2:0.95, valid_classifier_loss:1.946\n",
            "\n",
            "\n",
            "Epoch 18: iteration 106/107\n",
            "Epoch 18 --- loss:1.203, Epoch accuracy:71.55%, Validation loss:1.552, Validation accuracy:57.34%\n",
            "\n",
            "Epoch 18 --- epoch_autoencoder_loss1:0.907, epoch_autoencoder_loss2:0.93, epoch_classifier_loss:0.780\n",
            "\n",
            "Epoch 18 --- valid_autoencoder_loss1:0.939, valid_autoencoder_loss2:0.95, valid_classifier_loss:1.326\n",
            "\n",
            "\n",
            "Epoch 19: iteration 106/107\n",
            "Epoch 19 --- loss:1.175, Epoch accuracy:72.65%, Validation loss:1.569, Validation accuracy:57.11%\n",
            "\n",
            "Epoch 19 --- epoch_autoencoder_loss1:0.905, epoch_autoencoder_loss2:0.93, epoch_classifier_loss:0.736\n",
            "\n",
            "Epoch 19 --- valid_autoencoder_loss1:0.934, valid_autoencoder_loss2:0.95, valid_classifier_loss:1.357\n",
            "\n",
            "\n",
            "Epoch 20: iteration 106/107\n",
            "Epoch 20 --- loss:1.145, Epoch accuracy:74.31%, Validation loss:1.471, Validation accuracy:58.97%\n",
            "\n",
            "Epoch 20 --- epoch_autoencoder_loss1:0.905, epoch_autoencoder_loss2:0.93, epoch_classifier_loss:0.686\n",
            "\n",
            "Epoch 20 --- valid_autoencoder_loss1:0.932, valid_autoencoder_loss2:0.95, valid_classifier_loss:1.199\n",
            "\n",
            "\n",
            "Epoch 21: iteration 106/107\n",
            "Epoch 21 --- loss:1.173, Epoch accuracy:72.10%, Validation loss:1.574, Validation accuracy:56.64%\n",
            "\n",
            "Epoch 21 --- epoch_autoencoder_loss1:0.904, epoch_autoencoder_loss2:0.93, epoch_classifier_loss:0.733\n",
            "\n",
            "Epoch 21 --- valid_autoencoder_loss1:0.932, valid_autoencoder_loss2:0.95, valid_classifier_loss:1.371\n",
            "\n",
            "\n",
            "Epoch 22: iteration 106/107\n",
            "Epoch 22 --- loss:1.133, Epoch accuracy:75.73%, Validation loss:1.462, Validation accuracy:58.97%\n",
            "\n",
            "Epoch 22 --- epoch_autoencoder_loss1:0.903, epoch_autoencoder_loss2:0.93, epoch_classifier_loss:0.668\n",
            "\n",
            "Epoch 22 --- valid_autoencoder_loss1:0.930, valid_autoencoder_loss2:0.94, valid_classifier_loss:1.187\n",
            "\n",
            "\n",
            "Epoch 23: iteration 106/107\n",
            "Epoch 23 --- loss:1.128, Epoch accuracy:76.63%, Validation loss:1.423, Validation accuracy:58.28%\n",
            "\n",
            "Epoch 23 --- epoch_autoencoder_loss1:0.903, epoch_autoencoder_loss2:0.93, epoch_classifier_loss:0.660\n",
            "\n",
            "Epoch 23 --- valid_autoencoder_loss1:0.931, valid_autoencoder_loss2:0.95, valid_classifier_loss:1.118\n",
            "\n",
            "\n",
            "Epoch 24: iteration 106/107\n",
            "Epoch 24 --- loss:1.137, Epoch accuracy:75.44%, Validation loss:1.471, Validation accuracy:59.67%\n",
            "\n",
            "Epoch 24 --- epoch_autoencoder_loss1:0.903, epoch_autoencoder_loss2:0.93, epoch_classifier_loss:0.675\n",
            "\n",
            "Epoch 24 --- valid_autoencoder_loss1:0.927, valid_autoencoder_loss2:0.94, valid_classifier_loss:1.207\n",
            "\n",
            "\n",
            "Epoch 25: iteration 106/107\n",
            "Epoch 25 --- loss:1.143, Epoch accuracy:74.25%, Validation loss:1.414, Validation accuracy:63.64%\n",
            "\n",
            "Epoch 25 --- epoch_autoencoder_loss1:0.901, epoch_autoencoder_loss2:0.93, epoch_classifier_loss:0.687\n",
            "\n",
            "Epoch 25 --- valid_autoencoder_loss1:0.930, valid_autoencoder_loss2:0.94, valid_classifier_loss:1.111\n",
            "\n",
            "\n",
            "Epoch 26: iteration 106/107\n",
            "Epoch 26 --- loss:1.125, Epoch accuracy:75.24%, Validation loss:1.544, Validation accuracy:60.84%\n",
            "\n",
            "Epoch 26 --- epoch_autoencoder_loss1:0.901, epoch_autoencoder_loss2:0.92, epoch_classifier_loss:0.658\n",
            "\n",
            "Epoch 26 --- valid_autoencoder_loss1:0.931, valid_autoencoder_loss2:0.94, valid_classifier_loss:1.325\n",
            "\n",
            "\n",
            "Epoch 27: iteration 106/107\n",
            "Epoch 27 --- loss:1.115, Epoch accuracy:76.14%, Validation loss:1.477, Validation accuracy:63.17%\n",
            "\n",
            "Epoch 27 --- epoch_autoencoder_loss1:0.900, epoch_autoencoder_loss2:0.92, epoch_classifier_loss:0.643\n",
            "\n",
            "Epoch 27 --- valid_autoencoder_loss1:0.926, valid_autoencoder_loss2:0.94, valid_classifier_loss:1.218\n",
            "\n",
            "\n",
            "Epoch 28: iteration 106/107\n",
            "Epoch 28 --- loss:1.113, Epoch accuracy:76.20%, Validation loss:1.463, Validation accuracy:62.94%\n",
            "\n",
            "Epoch 28 --- epoch_autoencoder_loss1:0.901, epoch_autoencoder_loss2:0.92, epoch_classifier_loss:0.637\n",
            "\n",
            "Epoch 28 --- valid_autoencoder_loss1:0.927, valid_autoencoder_loss2:0.94, valid_classifier_loss:1.194\n",
            "\n",
            "\n",
            "Epoch 29: iteration 106/107\n",
            "Epoch 29 --- loss:1.069, Epoch accuracy:79.40%, Validation loss:1.448, Validation accuracy:65.03%\n",
            "\n",
            "Epoch 29 --- epoch_autoencoder_loss1:0.900, epoch_autoencoder_loss2:0.93, epoch_classifier_loss:0.565\n",
            "\n",
            "Epoch 29 --- valid_autoencoder_loss1:0.927, valid_autoencoder_loss2:0.95, valid_classifier_loss:1.161\n",
            "\n",
            "\n",
            "Epoch 30: iteration 106/107\n",
            "Epoch 30 --- loss:1.097, Epoch accuracy:77.39%, Validation loss:1.578, Validation accuracy:58.04%\n",
            "\n",
            "Epoch 30 --- epoch_autoencoder_loss1:0.901, epoch_autoencoder_loss2:0.93, epoch_classifier_loss:0.612\n",
            "\n",
            "Epoch 30 --- valid_autoencoder_loss1:0.927, valid_autoencoder_loss2:0.95, valid_classifier_loss:1.378\n",
            "\n",
            "\n",
            "Epoch 31: iteration 92/107"
          ]
        }
      ]
    },
    {
      "cell_type": "code",
      "source": [
        "plt.title('Loss Curve for Parallel is All You Want Model')\n",
        "plt.ylabel('Loss', fontsize=16)\n",
        "plt.xlabel('Epoch', fontsize=16)\n",
        "plt.plot(train_losses[:],'b')\n",
        "plt.plot(valid_losses[:],'r')\n",
        "plt.legend(['Training loss','Validation loss'])\n",
        "plt.show()"
      ],
      "metadata": {
        "id": "EqPuvmdpDCm7"
      },
      "execution_count": null,
      "outputs": []
    },
    {
      "cell_type": "code",
      "source": [],
      "metadata": {
        "id": "0GvCUtUkygoJ"
      },
      "execution_count": null,
      "outputs": []
    },
    {
      "cell_type": "code",
      "source": [],
      "metadata": {
        "id": "Lgy56SzqcNUE"
      },
      "execution_count": null,
      "outputs": []
    }
  ],
  "metadata": {
    "colab": {
      "provenance": [],
      "machine_shape": "hm",
      "include_colab_link": true
    },
    "kernelspec": {
      "display_name": "KERNEL",
      "language": "python",
      "name": "kernel"
    },
    "language_info": {
      "codemirror_mode": {
        "name": "ipython",
        "version": 3
      },
      "file_extension": ".py",
      "mimetype": "text/x-python",
      "name": "python",
      "nbconvert_exporter": "python",
      "pygments_lexer": "ipython3",
      "version": "3.8.3"
    },
    "widgets": {
      "application/vnd.jupyter.widget-state+json": {
        "4449722dc15345cbac2739053315cb23": {
          "model_module": "@jupyter-widgets/controls",
          "model_name": "HBoxModel",
          "model_module_version": "1.5.0",
          "state": {
            "_dom_classes": [],
            "_model_module": "@jupyter-widgets/controls",
            "_model_module_version": "1.5.0",
            "_model_name": "HBoxModel",
            "_view_count": null,
            "_view_module": "@jupyter-widgets/controls",
            "_view_module_version": "1.5.0",
            "_view_name": "HBoxView",
            "box_style": "",
            "children": [
              "IPY_MODEL_9e1eee76c862456ea6ba559ce5743950",
              "IPY_MODEL_a9149d985a31401fbd17ee52aa2aa21e",
              "IPY_MODEL_22006d5d3c2749948de74bd93242dbfc"
            ],
            "layout": "IPY_MODEL_4696ca36ae5944dda2da0c47ca29a998"
          }
        },
        "9e1eee76c862456ea6ba559ce5743950": {
          "model_module": "@jupyter-widgets/controls",
          "model_name": "HTMLModel",
          "model_module_version": "1.5.0",
          "state": {
            "_dom_classes": [],
            "_model_module": "@jupyter-widgets/controls",
            "_model_module_version": "1.5.0",
            "_model_name": "HTMLModel",
            "_view_count": null,
            "_view_module": "@jupyter-widgets/controls",
            "_view_module_version": "1.5.0",
            "_view_name": "HTMLView",
            "description": "",
            "description_tooltip": null,
            "layout": "IPY_MODEL_9682724097b449aa8e1df71b84c45cc0",
            "placeholder": "​",
            "style": "IPY_MODEL_ddac57a277cd4850922b7532bc406f1a",
            "value": "Downloading (…)rocessor_config.json: 100%"
          }
        },
        "a9149d985a31401fbd17ee52aa2aa21e": {
          "model_module": "@jupyter-widgets/controls",
          "model_name": "FloatProgressModel",
          "model_module_version": "1.5.0",
          "state": {
            "_dom_classes": [],
            "_model_module": "@jupyter-widgets/controls",
            "_model_module_version": "1.5.0",
            "_model_name": "FloatProgressModel",
            "_view_count": null,
            "_view_module": "@jupyter-widgets/controls",
            "_view_module_version": "1.5.0",
            "_view_name": "ProgressView",
            "bar_style": "success",
            "description": "",
            "description_tooltip": null,
            "layout": "IPY_MODEL_14f4d0eda75c43d3ac75a716f8bd8cc9",
            "max": 159,
            "min": 0,
            "orientation": "horizontal",
            "style": "IPY_MODEL_b2914ac7e4e5485f9f5510c91164ca6e",
            "value": 159
          }
        },
        "22006d5d3c2749948de74bd93242dbfc": {
          "model_module": "@jupyter-widgets/controls",
          "model_name": "HTMLModel",
          "model_module_version": "1.5.0",
          "state": {
            "_dom_classes": [],
            "_model_module": "@jupyter-widgets/controls",
            "_model_module_version": "1.5.0",
            "_model_name": "HTMLModel",
            "_view_count": null,
            "_view_module": "@jupyter-widgets/controls",
            "_view_module_version": "1.5.0",
            "_view_name": "HTMLView",
            "description": "",
            "description_tooltip": null,
            "layout": "IPY_MODEL_1a1f14158d974f379446cf350c9621a3",
            "placeholder": "​",
            "style": "IPY_MODEL_3664921a736a43ec8b2a98a3bdd16341",
            "value": " 159/159 [00:00&lt;00:00, 10.1kB/s]"
          }
        },
        "4696ca36ae5944dda2da0c47ca29a998": {
          "model_module": "@jupyter-widgets/base",
          "model_name": "LayoutModel",
          "model_module_version": "1.2.0",
          "state": {
            "_model_module": "@jupyter-widgets/base",
            "_model_module_version": "1.2.0",
            "_model_name": "LayoutModel",
            "_view_count": null,
            "_view_module": "@jupyter-widgets/base",
            "_view_module_version": "1.2.0",
            "_view_name": "LayoutView",
            "align_content": null,
            "align_items": null,
            "align_self": null,
            "border": null,
            "bottom": null,
            "display": null,
            "flex": null,
            "flex_flow": null,
            "grid_area": null,
            "grid_auto_columns": null,
            "grid_auto_flow": null,
            "grid_auto_rows": null,
            "grid_column": null,
            "grid_gap": null,
            "grid_row": null,
            "grid_template_areas": null,
            "grid_template_columns": null,
            "grid_template_rows": null,
            "height": null,
            "justify_content": null,
            "justify_items": null,
            "left": null,
            "margin": null,
            "max_height": null,
            "max_width": null,
            "min_height": null,
            "min_width": null,
            "object_fit": null,
            "object_position": null,
            "order": null,
            "overflow": null,
            "overflow_x": null,
            "overflow_y": null,
            "padding": null,
            "right": null,
            "top": null,
            "visibility": null,
            "width": null
          }
        },
        "9682724097b449aa8e1df71b84c45cc0": {
          "model_module": "@jupyter-widgets/base",
          "model_name": "LayoutModel",
          "model_module_version": "1.2.0",
          "state": {
            "_model_module": "@jupyter-widgets/base",
            "_model_module_version": "1.2.0",
            "_model_name": "LayoutModel",
            "_view_count": null,
            "_view_module": "@jupyter-widgets/base",
            "_view_module_version": "1.2.0",
            "_view_name": "LayoutView",
            "align_content": null,
            "align_items": null,
            "align_self": null,
            "border": null,
            "bottom": null,
            "display": null,
            "flex": null,
            "flex_flow": null,
            "grid_area": null,
            "grid_auto_columns": null,
            "grid_auto_flow": null,
            "grid_auto_rows": null,
            "grid_column": null,
            "grid_gap": null,
            "grid_row": null,
            "grid_template_areas": null,
            "grid_template_columns": null,
            "grid_template_rows": null,
            "height": null,
            "justify_content": null,
            "justify_items": null,
            "left": null,
            "margin": null,
            "max_height": null,
            "max_width": null,
            "min_height": null,
            "min_width": null,
            "object_fit": null,
            "object_position": null,
            "order": null,
            "overflow": null,
            "overflow_x": null,
            "overflow_y": null,
            "padding": null,
            "right": null,
            "top": null,
            "visibility": null,
            "width": null
          }
        },
        "ddac57a277cd4850922b7532bc406f1a": {
          "model_module": "@jupyter-widgets/controls",
          "model_name": "DescriptionStyleModel",
          "model_module_version": "1.5.0",
          "state": {
            "_model_module": "@jupyter-widgets/controls",
            "_model_module_version": "1.5.0",
            "_model_name": "DescriptionStyleModel",
            "_view_count": null,
            "_view_module": "@jupyter-widgets/base",
            "_view_module_version": "1.2.0",
            "_view_name": "StyleView",
            "description_width": ""
          }
        },
        "14f4d0eda75c43d3ac75a716f8bd8cc9": {
          "model_module": "@jupyter-widgets/base",
          "model_name": "LayoutModel",
          "model_module_version": "1.2.0",
          "state": {
            "_model_module": "@jupyter-widgets/base",
            "_model_module_version": "1.2.0",
            "_model_name": "LayoutModel",
            "_view_count": null,
            "_view_module": "@jupyter-widgets/base",
            "_view_module_version": "1.2.0",
            "_view_name": "LayoutView",
            "align_content": null,
            "align_items": null,
            "align_self": null,
            "border": null,
            "bottom": null,
            "display": null,
            "flex": null,
            "flex_flow": null,
            "grid_area": null,
            "grid_auto_columns": null,
            "grid_auto_flow": null,
            "grid_auto_rows": null,
            "grid_column": null,
            "grid_gap": null,
            "grid_row": null,
            "grid_template_areas": null,
            "grid_template_columns": null,
            "grid_template_rows": null,
            "height": null,
            "justify_content": null,
            "justify_items": null,
            "left": null,
            "margin": null,
            "max_height": null,
            "max_width": null,
            "min_height": null,
            "min_width": null,
            "object_fit": null,
            "object_position": null,
            "order": null,
            "overflow": null,
            "overflow_x": null,
            "overflow_y": null,
            "padding": null,
            "right": null,
            "top": null,
            "visibility": null,
            "width": null
          }
        },
        "b2914ac7e4e5485f9f5510c91164ca6e": {
          "model_module": "@jupyter-widgets/controls",
          "model_name": "ProgressStyleModel",
          "model_module_version": "1.5.0",
          "state": {
            "_model_module": "@jupyter-widgets/controls",
            "_model_module_version": "1.5.0",
            "_model_name": "ProgressStyleModel",
            "_view_count": null,
            "_view_module": "@jupyter-widgets/base",
            "_view_module_version": "1.2.0",
            "_view_name": "StyleView",
            "bar_color": null,
            "description_width": ""
          }
        },
        "1a1f14158d974f379446cf350c9621a3": {
          "model_module": "@jupyter-widgets/base",
          "model_name": "LayoutModel",
          "model_module_version": "1.2.0",
          "state": {
            "_model_module": "@jupyter-widgets/base",
            "_model_module_version": "1.2.0",
            "_model_name": "LayoutModel",
            "_view_count": null,
            "_view_module": "@jupyter-widgets/base",
            "_view_module_version": "1.2.0",
            "_view_name": "LayoutView",
            "align_content": null,
            "align_items": null,
            "align_self": null,
            "border": null,
            "bottom": null,
            "display": null,
            "flex": null,
            "flex_flow": null,
            "grid_area": null,
            "grid_auto_columns": null,
            "grid_auto_flow": null,
            "grid_auto_rows": null,
            "grid_column": null,
            "grid_gap": null,
            "grid_row": null,
            "grid_template_areas": null,
            "grid_template_columns": null,
            "grid_template_rows": null,
            "height": null,
            "justify_content": null,
            "justify_items": null,
            "left": null,
            "margin": null,
            "max_height": null,
            "max_width": null,
            "min_height": null,
            "min_width": null,
            "object_fit": null,
            "object_position": null,
            "order": null,
            "overflow": null,
            "overflow_x": null,
            "overflow_y": null,
            "padding": null,
            "right": null,
            "top": null,
            "visibility": null,
            "width": null
          }
        },
        "3664921a736a43ec8b2a98a3bdd16341": {
          "model_module": "@jupyter-widgets/controls",
          "model_name": "DescriptionStyleModel",
          "model_module_version": "1.5.0",
          "state": {
            "_model_module": "@jupyter-widgets/controls",
            "_model_module_version": "1.5.0",
            "_model_name": "DescriptionStyleModel",
            "_view_count": null,
            "_view_module": "@jupyter-widgets/base",
            "_view_module_version": "1.2.0",
            "_view_name": "StyleView",
            "description_width": ""
          }
        },
        "37e9a2858bcb4f1793da1bbd951d3b7c": {
          "model_module": "@jupyter-widgets/controls",
          "model_name": "HBoxModel",
          "model_module_version": "1.5.0",
          "state": {
            "_dom_classes": [],
            "_model_module": "@jupyter-widgets/controls",
            "_model_module_version": "1.5.0",
            "_model_name": "HBoxModel",
            "_view_count": null,
            "_view_module": "@jupyter-widgets/controls",
            "_view_module_version": "1.5.0",
            "_view_name": "HBoxView",
            "box_style": "",
            "children": [
              "IPY_MODEL_f0ae9a5e6019436fa38d236f76f59c84",
              "IPY_MODEL_44383431643443b8bcd64e0f0427f3e5",
              "IPY_MODEL_f9b552df44a04969bf972b0c7d3c1382"
            ],
            "layout": "IPY_MODEL_b2054b6112e843d984817548195f198f"
          }
        },
        "f0ae9a5e6019436fa38d236f76f59c84": {
          "model_module": "@jupyter-widgets/controls",
          "model_name": "HTMLModel",
          "model_module_version": "1.5.0",
          "state": {
            "_dom_classes": [],
            "_model_module": "@jupyter-widgets/controls",
            "_model_module_version": "1.5.0",
            "_model_name": "HTMLModel",
            "_view_count": null,
            "_view_module": "@jupyter-widgets/controls",
            "_view_module_version": "1.5.0",
            "_view_name": "HTMLView",
            "description": "",
            "description_tooltip": null,
            "layout": "IPY_MODEL_e581f43c1f0c4e8393ceefe6bacf9bd4",
            "placeholder": "​",
            "style": "IPY_MODEL_399e579822404a6198fea3846d13201d",
            "value": "Downloading (…)okenizer_config.json: 100%"
          }
        },
        "44383431643443b8bcd64e0f0427f3e5": {
          "model_module": "@jupyter-widgets/controls",
          "model_name": "FloatProgressModel",
          "model_module_version": "1.5.0",
          "state": {
            "_dom_classes": [],
            "_model_module": "@jupyter-widgets/controls",
            "_model_module_version": "1.5.0",
            "_model_name": "FloatProgressModel",
            "_view_count": null,
            "_view_module": "@jupyter-widgets/controls",
            "_view_module_version": "1.5.0",
            "_view_name": "ProgressView",
            "bar_style": "success",
            "description": "",
            "description_tooltip": null,
            "layout": "IPY_MODEL_cbaf42a9e7914f47a72882c12386ba9a",
            "max": 163,
            "min": 0,
            "orientation": "horizontal",
            "style": "IPY_MODEL_59b947c294984355b1fa4b49f1795113",
            "value": 163
          }
        },
        "f9b552df44a04969bf972b0c7d3c1382": {
          "model_module": "@jupyter-widgets/controls",
          "model_name": "HTMLModel",
          "model_module_version": "1.5.0",
          "state": {
            "_dom_classes": [],
            "_model_module": "@jupyter-widgets/controls",
            "_model_module_version": "1.5.0",
            "_model_name": "HTMLModel",
            "_view_count": null,
            "_view_module": "@jupyter-widgets/controls",
            "_view_module_version": "1.5.0",
            "_view_name": "HTMLView",
            "description": "",
            "description_tooltip": null,
            "layout": "IPY_MODEL_2e7a5676da8a40188c2b0a9fe7219ddf",
            "placeholder": "​",
            "style": "IPY_MODEL_a2fa2e3d10bc41259b5cae7a58c72182",
            "value": " 163/163 [00:00&lt;00:00, 11.2kB/s]"
          }
        },
        "b2054b6112e843d984817548195f198f": {
          "model_module": "@jupyter-widgets/base",
          "model_name": "LayoutModel",
          "model_module_version": "1.2.0",
          "state": {
            "_model_module": "@jupyter-widgets/base",
            "_model_module_version": "1.2.0",
            "_model_name": "LayoutModel",
            "_view_count": null,
            "_view_module": "@jupyter-widgets/base",
            "_view_module_version": "1.2.0",
            "_view_name": "LayoutView",
            "align_content": null,
            "align_items": null,
            "align_self": null,
            "border": null,
            "bottom": null,
            "display": null,
            "flex": null,
            "flex_flow": null,
            "grid_area": null,
            "grid_auto_columns": null,
            "grid_auto_flow": null,
            "grid_auto_rows": null,
            "grid_column": null,
            "grid_gap": null,
            "grid_row": null,
            "grid_template_areas": null,
            "grid_template_columns": null,
            "grid_template_rows": null,
            "height": null,
            "justify_content": null,
            "justify_items": null,
            "left": null,
            "margin": null,
            "max_height": null,
            "max_width": null,
            "min_height": null,
            "min_width": null,
            "object_fit": null,
            "object_position": null,
            "order": null,
            "overflow": null,
            "overflow_x": null,
            "overflow_y": null,
            "padding": null,
            "right": null,
            "top": null,
            "visibility": null,
            "width": null
          }
        },
        "e581f43c1f0c4e8393ceefe6bacf9bd4": {
          "model_module": "@jupyter-widgets/base",
          "model_name": "LayoutModel",
          "model_module_version": "1.2.0",
          "state": {
            "_model_module": "@jupyter-widgets/base",
            "_model_module_version": "1.2.0",
            "_model_name": "LayoutModel",
            "_view_count": null,
            "_view_module": "@jupyter-widgets/base",
            "_view_module_version": "1.2.0",
            "_view_name": "LayoutView",
            "align_content": null,
            "align_items": null,
            "align_self": null,
            "border": null,
            "bottom": null,
            "display": null,
            "flex": null,
            "flex_flow": null,
            "grid_area": null,
            "grid_auto_columns": null,
            "grid_auto_flow": null,
            "grid_auto_rows": null,
            "grid_column": null,
            "grid_gap": null,
            "grid_row": null,
            "grid_template_areas": null,
            "grid_template_columns": null,
            "grid_template_rows": null,
            "height": null,
            "justify_content": null,
            "justify_items": null,
            "left": null,
            "margin": null,
            "max_height": null,
            "max_width": null,
            "min_height": null,
            "min_width": null,
            "object_fit": null,
            "object_position": null,
            "order": null,
            "overflow": null,
            "overflow_x": null,
            "overflow_y": null,
            "padding": null,
            "right": null,
            "top": null,
            "visibility": null,
            "width": null
          }
        },
        "399e579822404a6198fea3846d13201d": {
          "model_module": "@jupyter-widgets/controls",
          "model_name": "DescriptionStyleModel",
          "model_module_version": "1.5.0",
          "state": {
            "_model_module": "@jupyter-widgets/controls",
            "_model_module_version": "1.5.0",
            "_model_name": "DescriptionStyleModel",
            "_view_count": null,
            "_view_module": "@jupyter-widgets/base",
            "_view_module_version": "1.2.0",
            "_view_name": "StyleView",
            "description_width": ""
          }
        },
        "cbaf42a9e7914f47a72882c12386ba9a": {
          "model_module": "@jupyter-widgets/base",
          "model_name": "LayoutModel",
          "model_module_version": "1.2.0",
          "state": {
            "_model_module": "@jupyter-widgets/base",
            "_model_module_version": "1.2.0",
            "_model_name": "LayoutModel",
            "_view_count": null,
            "_view_module": "@jupyter-widgets/base",
            "_view_module_version": "1.2.0",
            "_view_name": "LayoutView",
            "align_content": null,
            "align_items": null,
            "align_self": null,
            "border": null,
            "bottom": null,
            "display": null,
            "flex": null,
            "flex_flow": null,
            "grid_area": null,
            "grid_auto_columns": null,
            "grid_auto_flow": null,
            "grid_auto_rows": null,
            "grid_column": null,
            "grid_gap": null,
            "grid_row": null,
            "grid_template_areas": null,
            "grid_template_columns": null,
            "grid_template_rows": null,
            "height": null,
            "justify_content": null,
            "justify_items": null,
            "left": null,
            "margin": null,
            "max_height": null,
            "max_width": null,
            "min_height": null,
            "min_width": null,
            "object_fit": null,
            "object_position": null,
            "order": null,
            "overflow": null,
            "overflow_x": null,
            "overflow_y": null,
            "padding": null,
            "right": null,
            "top": null,
            "visibility": null,
            "width": null
          }
        },
        "59b947c294984355b1fa4b49f1795113": {
          "model_module": "@jupyter-widgets/controls",
          "model_name": "ProgressStyleModel",
          "model_module_version": "1.5.0",
          "state": {
            "_model_module": "@jupyter-widgets/controls",
            "_model_module_version": "1.5.0",
            "_model_name": "ProgressStyleModel",
            "_view_count": null,
            "_view_module": "@jupyter-widgets/base",
            "_view_module_version": "1.2.0",
            "_view_name": "StyleView",
            "bar_color": null,
            "description_width": ""
          }
        },
        "2e7a5676da8a40188c2b0a9fe7219ddf": {
          "model_module": "@jupyter-widgets/base",
          "model_name": "LayoutModel",
          "model_module_version": "1.2.0",
          "state": {
            "_model_module": "@jupyter-widgets/base",
            "_model_module_version": "1.2.0",
            "_model_name": "LayoutModel",
            "_view_count": null,
            "_view_module": "@jupyter-widgets/base",
            "_view_module_version": "1.2.0",
            "_view_name": "LayoutView",
            "align_content": null,
            "align_items": null,
            "align_self": null,
            "border": null,
            "bottom": null,
            "display": null,
            "flex": null,
            "flex_flow": null,
            "grid_area": null,
            "grid_auto_columns": null,
            "grid_auto_flow": null,
            "grid_auto_rows": null,
            "grid_column": null,
            "grid_gap": null,
            "grid_row": null,
            "grid_template_areas": null,
            "grid_template_columns": null,
            "grid_template_rows": null,
            "height": null,
            "justify_content": null,
            "justify_items": null,
            "left": null,
            "margin": null,
            "max_height": null,
            "max_width": null,
            "min_height": null,
            "min_width": null,
            "object_fit": null,
            "object_position": null,
            "order": null,
            "overflow": null,
            "overflow_x": null,
            "overflow_y": null,
            "padding": null,
            "right": null,
            "top": null,
            "visibility": null,
            "width": null
          }
        },
        "a2fa2e3d10bc41259b5cae7a58c72182": {
          "model_module": "@jupyter-widgets/controls",
          "model_name": "DescriptionStyleModel",
          "model_module_version": "1.5.0",
          "state": {
            "_model_module": "@jupyter-widgets/controls",
            "_model_module_version": "1.5.0",
            "_model_name": "DescriptionStyleModel",
            "_view_count": null,
            "_view_module": "@jupyter-widgets/base",
            "_view_module_version": "1.2.0",
            "_view_name": "StyleView",
            "description_width": ""
          }
        },
        "7bd1a466a5934a72867a28cad47c53b1": {
          "model_module": "@jupyter-widgets/controls",
          "model_name": "HBoxModel",
          "model_module_version": "1.5.0",
          "state": {
            "_dom_classes": [],
            "_model_module": "@jupyter-widgets/controls",
            "_model_module_version": "1.5.0",
            "_model_name": "HBoxModel",
            "_view_count": null,
            "_view_module": "@jupyter-widgets/controls",
            "_view_module_version": "1.5.0",
            "_view_name": "HBoxView",
            "box_style": "",
            "children": [
              "IPY_MODEL_00e022719f78443ea002d730a0401cc7",
              "IPY_MODEL_513ac6994bf249bebbea75549ecbf6c1",
              "IPY_MODEL_b2b52ce59bd646b6ba3b4141e322d7dc"
            ],
            "layout": "IPY_MODEL_cf8a3361657e4987b9ec438903901a99"
          }
        },
        "00e022719f78443ea002d730a0401cc7": {
          "model_module": "@jupyter-widgets/controls",
          "model_name": "HTMLModel",
          "model_module_version": "1.5.0",
          "state": {
            "_dom_classes": [],
            "_model_module": "@jupyter-widgets/controls",
            "_model_module_version": "1.5.0",
            "_model_name": "HTMLModel",
            "_view_count": null,
            "_view_module": "@jupyter-widgets/controls",
            "_view_module_version": "1.5.0",
            "_view_name": "HTMLView",
            "description": "",
            "description_tooltip": null,
            "layout": "IPY_MODEL_846d5e4a5f1048498d6ab7c866670954",
            "placeholder": "​",
            "style": "IPY_MODEL_ce96bb8b97a8466db2ca4dd0d34bf116",
            "value": "Downloading (…)lve/main/config.json: 100%"
          }
        },
        "513ac6994bf249bebbea75549ecbf6c1": {
          "model_module": "@jupyter-widgets/controls",
          "model_name": "FloatProgressModel",
          "model_module_version": "1.5.0",
          "state": {
            "_dom_classes": [],
            "_model_module": "@jupyter-widgets/controls",
            "_model_module_version": "1.5.0",
            "_model_name": "FloatProgressModel",
            "_view_count": null,
            "_view_module": "@jupyter-widgets/controls",
            "_view_module_version": "1.5.0",
            "_view_name": "ProgressView",
            "bar_style": "success",
            "description": "",
            "description_tooltip": null,
            "layout": "IPY_MODEL_1502142a8bfe46b5a22da610885a662e",
            "max": 1596,
            "min": 0,
            "orientation": "horizontal",
            "style": "IPY_MODEL_be7c98235ab142009a3e8142e546abca",
            "value": 1596
          }
        },
        "b2b52ce59bd646b6ba3b4141e322d7dc": {
          "model_module": "@jupyter-widgets/controls",
          "model_name": "HTMLModel",
          "model_module_version": "1.5.0",
          "state": {
            "_dom_classes": [],
            "_model_module": "@jupyter-widgets/controls",
            "_model_module_version": "1.5.0",
            "_model_name": "HTMLModel",
            "_view_count": null,
            "_view_module": "@jupyter-widgets/controls",
            "_view_module_version": "1.5.0",
            "_view_name": "HTMLView",
            "description": "",
            "description_tooltip": null,
            "layout": "IPY_MODEL_4941cf7f759943758d92affd0eae8588",
            "placeholder": "​",
            "style": "IPY_MODEL_6db2bf70f3c54be4a181aafb61e82f73",
            "value": " 1.60k/1.60k [00:00&lt;00:00, 124kB/s]"
          }
        },
        "cf8a3361657e4987b9ec438903901a99": {
          "model_module": "@jupyter-widgets/base",
          "model_name": "LayoutModel",
          "model_module_version": "1.2.0",
          "state": {
            "_model_module": "@jupyter-widgets/base",
            "_model_module_version": "1.2.0",
            "_model_name": "LayoutModel",
            "_view_count": null,
            "_view_module": "@jupyter-widgets/base",
            "_view_module_version": "1.2.0",
            "_view_name": "LayoutView",
            "align_content": null,
            "align_items": null,
            "align_self": null,
            "border": null,
            "bottom": null,
            "display": null,
            "flex": null,
            "flex_flow": null,
            "grid_area": null,
            "grid_auto_columns": null,
            "grid_auto_flow": null,
            "grid_auto_rows": null,
            "grid_column": null,
            "grid_gap": null,
            "grid_row": null,
            "grid_template_areas": null,
            "grid_template_columns": null,
            "grid_template_rows": null,
            "height": null,
            "justify_content": null,
            "justify_items": null,
            "left": null,
            "margin": null,
            "max_height": null,
            "max_width": null,
            "min_height": null,
            "min_width": null,
            "object_fit": null,
            "object_position": null,
            "order": null,
            "overflow": null,
            "overflow_x": null,
            "overflow_y": null,
            "padding": null,
            "right": null,
            "top": null,
            "visibility": null,
            "width": null
          }
        },
        "846d5e4a5f1048498d6ab7c866670954": {
          "model_module": "@jupyter-widgets/base",
          "model_name": "LayoutModel",
          "model_module_version": "1.2.0",
          "state": {
            "_model_module": "@jupyter-widgets/base",
            "_model_module_version": "1.2.0",
            "_model_name": "LayoutModel",
            "_view_count": null,
            "_view_module": "@jupyter-widgets/base",
            "_view_module_version": "1.2.0",
            "_view_name": "LayoutView",
            "align_content": null,
            "align_items": null,
            "align_self": null,
            "border": null,
            "bottom": null,
            "display": null,
            "flex": null,
            "flex_flow": null,
            "grid_area": null,
            "grid_auto_columns": null,
            "grid_auto_flow": null,
            "grid_auto_rows": null,
            "grid_column": null,
            "grid_gap": null,
            "grid_row": null,
            "grid_template_areas": null,
            "grid_template_columns": null,
            "grid_template_rows": null,
            "height": null,
            "justify_content": null,
            "justify_items": null,
            "left": null,
            "margin": null,
            "max_height": null,
            "max_width": null,
            "min_height": null,
            "min_width": null,
            "object_fit": null,
            "object_position": null,
            "order": null,
            "overflow": null,
            "overflow_x": null,
            "overflow_y": null,
            "padding": null,
            "right": null,
            "top": null,
            "visibility": null,
            "width": null
          }
        },
        "ce96bb8b97a8466db2ca4dd0d34bf116": {
          "model_module": "@jupyter-widgets/controls",
          "model_name": "DescriptionStyleModel",
          "model_module_version": "1.5.0",
          "state": {
            "_model_module": "@jupyter-widgets/controls",
            "_model_module_version": "1.5.0",
            "_model_name": "DescriptionStyleModel",
            "_view_count": null,
            "_view_module": "@jupyter-widgets/base",
            "_view_module_version": "1.2.0",
            "_view_name": "StyleView",
            "description_width": ""
          }
        },
        "1502142a8bfe46b5a22da610885a662e": {
          "model_module": "@jupyter-widgets/base",
          "model_name": "LayoutModel",
          "model_module_version": "1.2.0",
          "state": {
            "_model_module": "@jupyter-widgets/base",
            "_model_module_version": "1.2.0",
            "_model_name": "LayoutModel",
            "_view_count": null,
            "_view_module": "@jupyter-widgets/base",
            "_view_module_version": "1.2.0",
            "_view_name": "LayoutView",
            "align_content": null,
            "align_items": null,
            "align_self": null,
            "border": null,
            "bottom": null,
            "display": null,
            "flex": null,
            "flex_flow": null,
            "grid_area": null,
            "grid_auto_columns": null,
            "grid_auto_flow": null,
            "grid_auto_rows": null,
            "grid_column": null,
            "grid_gap": null,
            "grid_row": null,
            "grid_template_areas": null,
            "grid_template_columns": null,
            "grid_template_rows": null,
            "height": null,
            "justify_content": null,
            "justify_items": null,
            "left": null,
            "margin": null,
            "max_height": null,
            "max_width": null,
            "min_height": null,
            "min_width": null,
            "object_fit": null,
            "object_position": null,
            "order": null,
            "overflow": null,
            "overflow_x": null,
            "overflow_y": null,
            "padding": null,
            "right": null,
            "top": null,
            "visibility": null,
            "width": null
          }
        },
        "be7c98235ab142009a3e8142e546abca": {
          "model_module": "@jupyter-widgets/controls",
          "model_name": "ProgressStyleModel",
          "model_module_version": "1.5.0",
          "state": {
            "_model_module": "@jupyter-widgets/controls",
            "_model_module_version": "1.5.0",
            "_model_name": "ProgressStyleModel",
            "_view_count": null,
            "_view_module": "@jupyter-widgets/base",
            "_view_module_version": "1.2.0",
            "_view_name": "StyleView",
            "bar_color": null,
            "description_width": ""
          }
        },
        "4941cf7f759943758d92affd0eae8588": {
          "model_module": "@jupyter-widgets/base",
          "model_name": "LayoutModel",
          "model_module_version": "1.2.0",
          "state": {
            "_model_module": "@jupyter-widgets/base",
            "_model_module_version": "1.2.0",
            "_model_name": "LayoutModel",
            "_view_count": null,
            "_view_module": "@jupyter-widgets/base",
            "_view_module_version": "1.2.0",
            "_view_name": "LayoutView",
            "align_content": null,
            "align_items": null,
            "align_self": null,
            "border": null,
            "bottom": null,
            "display": null,
            "flex": null,
            "flex_flow": null,
            "grid_area": null,
            "grid_auto_columns": null,
            "grid_auto_flow": null,
            "grid_auto_rows": null,
            "grid_column": null,
            "grid_gap": null,
            "grid_row": null,
            "grid_template_areas": null,
            "grid_template_columns": null,
            "grid_template_rows": null,
            "height": null,
            "justify_content": null,
            "justify_items": null,
            "left": null,
            "margin": null,
            "max_height": null,
            "max_width": null,
            "min_height": null,
            "min_width": null,
            "object_fit": null,
            "object_position": null,
            "order": null,
            "overflow": null,
            "overflow_x": null,
            "overflow_y": null,
            "padding": null,
            "right": null,
            "top": null,
            "visibility": null,
            "width": null
          }
        },
        "6db2bf70f3c54be4a181aafb61e82f73": {
          "model_module": "@jupyter-widgets/controls",
          "model_name": "DescriptionStyleModel",
          "model_module_version": "1.5.0",
          "state": {
            "_model_module": "@jupyter-widgets/controls",
            "_model_module_version": "1.5.0",
            "_model_name": "DescriptionStyleModel",
            "_view_count": null,
            "_view_module": "@jupyter-widgets/base",
            "_view_module_version": "1.2.0",
            "_view_name": "StyleView",
            "description_width": ""
          }
        },
        "c8fc88cd2e2c4d7583551ad34d27cca5": {
          "model_module": "@jupyter-widgets/controls",
          "model_name": "HBoxModel",
          "model_module_version": "1.5.0",
          "state": {
            "_dom_classes": [],
            "_model_module": "@jupyter-widgets/controls",
            "_model_module_version": "1.5.0",
            "_model_name": "HBoxModel",
            "_view_count": null,
            "_view_module": "@jupyter-widgets/controls",
            "_view_module_version": "1.5.0",
            "_view_name": "HBoxView",
            "box_style": "",
            "children": [
              "IPY_MODEL_42a68bc6aced494aa3bb2f69b402dabb",
              "IPY_MODEL_3ebee31d6a6a4cbaab856d20be415dde",
              "IPY_MODEL_3edb8ccc6edd413faab5236676eea8b3"
            ],
            "layout": "IPY_MODEL_c2bc291bbf3c4c5f8dfb0c40aac0ccb2"
          }
        },
        "42a68bc6aced494aa3bb2f69b402dabb": {
          "model_module": "@jupyter-widgets/controls",
          "model_name": "HTMLModel",
          "model_module_version": "1.5.0",
          "state": {
            "_dom_classes": [],
            "_model_module": "@jupyter-widgets/controls",
            "_model_module_version": "1.5.0",
            "_model_name": "HTMLModel",
            "_view_count": null,
            "_view_module": "@jupyter-widgets/controls",
            "_view_module_version": "1.5.0",
            "_view_name": "HTMLView",
            "description": "",
            "description_tooltip": null,
            "layout": "IPY_MODEL_8392251703c744308e75b6551635fff0",
            "placeholder": "​",
            "style": "IPY_MODEL_c20c2646d8ca404f818ed28c2361849f",
            "value": "Downloading (…)olve/main/vocab.json: 100%"
          }
        },
        "3ebee31d6a6a4cbaab856d20be415dde": {
          "model_module": "@jupyter-widgets/controls",
          "model_name": "FloatProgressModel",
          "model_module_version": "1.5.0",
          "state": {
            "_dom_classes": [],
            "_model_module": "@jupyter-widgets/controls",
            "_model_module_version": "1.5.0",
            "_model_name": "FloatProgressModel",
            "_view_count": null,
            "_view_module": "@jupyter-widgets/controls",
            "_view_module_version": "1.5.0",
            "_view_name": "ProgressView",
            "bar_style": "success",
            "description": "",
            "description_tooltip": null,
            "layout": "IPY_MODEL_303199c9844d480bad176a7f5927a4d9",
            "max": 291,
            "min": 0,
            "orientation": "horizontal",
            "style": "IPY_MODEL_baf3b2f421b743bd97f39f45002f2985",
            "value": 291
          }
        },
        "3edb8ccc6edd413faab5236676eea8b3": {
          "model_module": "@jupyter-widgets/controls",
          "model_name": "HTMLModel",
          "model_module_version": "1.5.0",
          "state": {
            "_dom_classes": [],
            "_model_module": "@jupyter-widgets/controls",
            "_model_module_version": "1.5.0",
            "_model_name": "HTMLModel",
            "_view_count": null,
            "_view_module": "@jupyter-widgets/controls",
            "_view_module_version": "1.5.0",
            "_view_name": "HTMLView",
            "description": "",
            "description_tooltip": null,
            "layout": "IPY_MODEL_196f2e8cd449411391b0ac1eb9d8a14b",
            "placeholder": "​",
            "style": "IPY_MODEL_2415bc5534884e959c025d52983f0b88",
            "value": " 291/291 [00:00&lt;00:00, 18.4kB/s]"
          }
        },
        "c2bc291bbf3c4c5f8dfb0c40aac0ccb2": {
          "model_module": "@jupyter-widgets/base",
          "model_name": "LayoutModel",
          "model_module_version": "1.2.0",
          "state": {
            "_model_module": "@jupyter-widgets/base",
            "_model_module_version": "1.2.0",
            "_model_name": "LayoutModel",
            "_view_count": null,
            "_view_module": "@jupyter-widgets/base",
            "_view_module_version": "1.2.0",
            "_view_name": "LayoutView",
            "align_content": null,
            "align_items": null,
            "align_self": null,
            "border": null,
            "bottom": null,
            "display": null,
            "flex": null,
            "flex_flow": null,
            "grid_area": null,
            "grid_auto_columns": null,
            "grid_auto_flow": null,
            "grid_auto_rows": null,
            "grid_column": null,
            "grid_gap": null,
            "grid_row": null,
            "grid_template_areas": null,
            "grid_template_columns": null,
            "grid_template_rows": null,
            "height": null,
            "justify_content": null,
            "justify_items": null,
            "left": null,
            "margin": null,
            "max_height": null,
            "max_width": null,
            "min_height": null,
            "min_width": null,
            "object_fit": null,
            "object_position": null,
            "order": null,
            "overflow": null,
            "overflow_x": null,
            "overflow_y": null,
            "padding": null,
            "right": null,
            "top": null,
            "visibility": null,
            "width": null
          }
        },
        "8392251703c744308e75b6551635fff0": {
          "model_module": "@jupyter-widgets/base",
          "model_name": "LayoutModel",
          "model_module_version": "1.2.0",
          "state": {
            "_model_module": "@jupyter-widgets/base",
            "_model_module_version": "1.2.0",
            "_model_name": "LayoutModel",
            "_view_count": null,
            "_view_module": "@jupyter-widgets/base",
            "_view_module_version": "1.2.0",
            "_view_name": "LayoutView",
            "align_content": null,
            "align_items": null,
            "align_self": null,
            "border": null,
            "bottom": null,
            "display": null,
            "flex": null,
            "flex_flow": null,
            "grid_area": null,
            "grid_auto_columns": null,
            "grid_auto_flow": null,
            "grid_auto_rows": null,
            "grid_column": null,
            "grid_gap": null,
            "grid_row": null,
            "grid_template_areas": null,
            "grid_template_columns": null,
            "grid_template_rows": null,
            "height": null,
            "justify_content": null,
            "justify_items": null,
            "left": null,
            "margin": null,
            "max_height": null,
            "max_width": null,
            "min_height": null,
            "min_width": null,
            "object_fit": null,
            "object_position": null,
            "order": null,
            "overflow": null,
            "overflow_x": null,
            "overflow_y": null,
            "padding": null,
            "right": null,
            "top": null,
            "visibility": null,
            "width": null
          }
        },
        "c20c2646d8ca404f818ed28c2361849f": {
          "model_module": "@jupyter-widgets/controls",
          "model_name": "DescriptionStyleModel",
          "model_module_version": "1.5.0",
          "state": {
            "_model_module": "@jupyter-widgets/controls",
            "_model_module_version": "1.5.0",
            "_model_name": "DescriptionStyleModel",
            "_view_count": null,
            "_view_module": "@jupyter-widgets/base",
            "_view_module_version": "1.2.0",
            "_view_name": "StyleView",
            "description_width": ""
          }
        },
        "303199c9844d480bad176a7f5927a4d9": {
          "model_module": "@jupyter-widgets/base",
          "model_name": "LayoutModel",
          "model_module_version": "1.2.0",
          "state": {
            "_model_module": "@jupyter-widgets/base",
            "_model_module_version": "1.2.0",
            "_model_name": "LayoutModel",
            "_view_count": null,
            "_view_module": "@jupyter-widgets/base",
            "_view_module_version": "1.2.0",
            "_view_name": "LayoutView",
            "align_content": null,
            "align_items": null,
            "align_self": null,
            "border": null,
            "bottom": null,
            "display": null,
            "flex": null,
            "flex_flow": null,
            "grid_area": null,
            "grid_auto_columns": null,
            "grid_auto_flow": null,
            "grid_auto_rows": null,
            "grid_column": null,
            "grid_gap": null,
            "grid_row": null,
            "grid_template_areas": null,
            "grid_template_columns": null,
            "grid_template_rows": null,
            "height": null,
            "justify_content": null,
            "justify_items": null,
            "left": null,
            "margin": null,
            "max_height": null,
            "max_width": null,
            "min_height": null,
            "min_width": null,
            "object_fit": null,
            "object_position": null,
            "order": null,
            "overflow": null,
            "overflow_x": null,
            "overflow_y": null,
            "padding": null,
            "right": null,
            "top": null,
            "visibility": null,
            "width": null
          }
        },
        "baf3b2f421b743bd97f39f45002f2985": {
          "model_module": "@jupyter-widgets/controls",
          "model_name": "ProgressStyleModel",
          "model_module_version": "1.5.0",
          "state": {
            "_model_module": "@jupyter-widgets/controls",
            "_model_module_version": "1.5.0",
            "_model_name": "ProgressStyleModel",
            "_view_count": null,
            "_view_module": "@jupyter-widgets/base",
            "_view_module_version": "1.2.0",
            "_view_name": "StyleView",
            "bar_color": null,
            "description_width": ""
          }
        },
        "196f2e8cd449411391b0ac1eb9d8a14b": {
          "model_module": "@jupyter-widgets/base",
          "model_name": "LayoutModel",
          "model_module_version": "1.2.0",
          "state": {
            "_model_module": "@jupyter-widgets/base",
            "_model_module_version": "1.2.0",
            "_model_name": "LayoutModel",
            "_view_count": null,
            "_view_module": "@jupyter-widgets/base",
            "_view_module_version": "1.2.0",
            "_view_name": "LayoutView",
            "align_content": null,
            "align_items": null,
            "align_self": null,
            "border": null,
            "bottom": null,
            "display": null,
            "flex": null,
            "flex_flow": null,
            "grid_area": null,
            "grid_auto_columns": null,
            "grid_auto_flow": null,
            "grid_auto_rows": null,
            "grid_column": null,
            "grid_gap": null,
            "grid_row": null,
            "grid_template_areas": null,
            "grid_template_columns": null,
            "grid_template_rows": null,
            "height": null,
            "justify_content": null,
            "justify_items": null,
            "left": null,
            "margin": null,
            "max_height": null,
            "max_width": null,
            "min_height": null,
            "min_width": null,
            "object_fit": null,
            "object_position": null,
            "order": null,
            "overflow": null,
            "overflow_x": null,
            "overflow_y": null,
            "padding": null,
            "right": null,
            "top": null,
            "visibility": null,
            "width": null
          }
        },
        "2415bc5534884e959c025d52983f0b88": {
          "model_module": "@jupyter-widgets/controls",
          "model_name": "DescriptionStyleModel",
          "model_module_version": "1.5.0",
          "state": {
            "_model_module": "@jupyter-widgets/controls",
            "_model_module_version": "1.5.0",
            "_model_name": "DescriptionStyleModel",
            "_view_count": null,
            "_view_module": "@jupyter-widgets/base",
            "_view_module_version": "1.2.0",
            "_view_name": "StyleView",
            "description_width": ""
          }
        },
        "519a564bad84484aaf3e41ce0d5e2002": {
          "model_module": "@jupyter-widgets/controls",
          "model_name": "HBoxModel",
          "model_module_version": "1.5.0",
          "state": {
            "_dom_classes": [],
            "_model_module": "@jupyter-widgets/controls",
            "_model_module_version": "1.5.0",
            "_model_name": "HBoxModel",
            "_view_count": null,
            "_view_module": "@jupyter-widgets/controls",
            "_view_module_version": "1.5.0",
            "_view_name": "HBoxView",
            "box_style": "",
            "children": [
              "IPY_MODEL_31cd4306f88b4b518d99ad88edd3f419",
              "IPY_MODEL_9d2d07230f324f1fad9397bec1baa2b4",
              "IPY_MODEL_7c3a259c1cf74c24bea2585c9b5c7547"
            ],
            "layout": "IPY_MODEL_48b8209eeac046b0833224c36fee1c52"
          }
        },
        "31cd4306f88b4b518d99ad88edd3f419": {
          "model_module": "@jupyter-widgets/controls",
          "model_name": "HTMLModel",
          "model_module_version": "1.5.0",
          "state": {
            "_dom_classes": [],
            "_model_module": "@jupyter-widgets/controls",
            "_model_module_version": "1.5.0",
            "_model_name": "HTMLModel",
            "_view_count": null,
            "_view_module": "@jupyter-widgets/controls",
            "_view_module_version": "1.5.0",
            "_view_name": "HTMLView",
            "description": "",
            "description_tooltip": null,
            "layout": "IPY_MODEL_9d740fc7ac48423a90dc41c17cb746e0",
            "placeholder": "​",
            "style": "IPY_MODEL_8cef33857a4c4498adc90b4509edd096",
            "value": "Downloading (…)cial_tokens_map.json: 100%"
          }
        },
        "9d2d07230f324f1fad9397bec1baa2b4": {
          "model_module": "@jupyter-widgets/controls",
          "model_name": "FloatProgressModel",
          "model_module_version": "1.5.0",
          "state": {
            "_dom_classes": [],
            "_model_module": "@jupyter-widgets/controls",
            "_model_module_version": "1.5.0",
            "_model_name": "FloatProgressModel",
            "_view_count": null,
            "_view_module": "@jupyter-widgets/controls",
            "_view_module_version": "1.5.0",
            "_view_name": "ProgressView",
            "bar_style": "success",
            "description": "",
            "description_tooltip": null,
            "layout": "IPY_MODEL_f0721d7af56e46ad80f27cfe920b74fc",
            "max": 85,
            "min": 0,
            "orientation": "horizontal",
            "style": "IPY_MODEL_fd156f0e6e7e44e7b57cf3b839fa759b",
            "value": 85
          }
        },
        "7c3a259c1cf74c24bea2585c9b5c7547": {
          "model_module": "@jupyter-widgets/controls",
          "model_name": "HTMLModel",
          "model_module_version": "1.5.0",
          "state": {
            "_dom_classes": [],
            "_model_module": "@jupyter-widgets/controls",
            "_model_module_version": "1.5.0",
            "_model_name": "HTMLModel",
            "_view_count": null,
            "_view_module": "@jupyter-widgets/controls",
            "_view_module_version": "1.5.0",
            "_view_name": "HTMLView",
            "description": "",
            "description_tooltip": null,
            "layout": "IPY_MODEL_db1b5a5bc041414587e255fe7b4e0a84",
            "placeholder": "​",
            "style": "IPY_MODEL_2e520161106c42d29108c58915f7ea73",
            "value": " 85.0/85.0 [00:00&lt;00:00, 6.03kB/s]"
          }
        },
        "48b8209eeac046b0833224c36fee1c52": {
          "model_module": "@jupyter-widgets/base",
          "model_name": "LayoutModel",
          "model_module_version": "1.2.0",
          "state": {
            "_model_module": "@jupyter-widgets/base",
            "_model_module_version": "1.2.0",
            "_model_name": "LayoutModel",
            "_view_count": null,
            "_view_module": "@jupyter-widgets/base",
            "_view_module_version": "1.2.0",
            "_view_name": "LayoutView",
            "align_content": null,
            "align_items": null,
            "align_self": null,
            "border": null,
            "bottom": null,
            "display": null,
            "flex": null,
            "flex_flow": null,
            "grid_area": null,
            "grid_auto_columns": null,
            "grid_auto_flow": null,
            "grid_auto_rows": null,
            "grid_column": null,
            "grid_gap": null,
            "grid_row": null,
            "grid_template_areas": null,
            "grid_template_columns": null,
            "grid_template_rows": null,
            "height": null,
            "justify_content": null,
            "justify_items": null,
            "left": null,
            "margin": null,
            "max_height": null,
            "max_width": null,
            "min_height": null,
            "min_width": null,
            "object_fit": null,
            "object_position": null,
            "order": null,
            "overflow": null,
            "overflow_x": null,
            "overflow_y": null,
            "padding": null,
            "right": null,
            "top": null,
            "visibility": null,
            "width": null
          }
        },
        "9d740fc7ac48423a90dc41c17cb746e0": {
          "model_module": "@jupyter-widgets/base",
          "model_name": "LayoutModel",
          "model_module_version": "1.2.0",
          "state": {
            "_model_module": "@jupyter-widgets/base",
            "_model_module_version": "1.2.0",
            "_model_name": "LayoutModel",
            "_view_count": null,
            "_view_module": "@jupyter-widgets/base",
            "_view_module_version": "1.2.0",
            "_view_name": "LayoutView",
            "align_content": null,
            "align_items": null,
            "align_self": null,
            "border": null,
            "bottom": null,
            "display": null,
            "flex": null,
            "flex_flow": null,
            "grid_area": null,
            "grid_auto_columns": null,
            "grid_auto_flow": null,
            "grid_auto_rows": null,
            "grid_column": null,
            "grid_gap": null,
            "grid_row": null,
            "grid_template_areas": null,
            "grid_template_columns": null,
            "grid_template_rows": null,
            "height": null,
            "justify_content": null,
            "justify_items": null,
            "left": null,
            "margin": null,
            "max_height": null,
            "max_width": null,
            "min_height": null,
            "min_width": null,
            "object_fit": null,
            "object_position": null,
            "order": null,
            "overflow": null,
            "overflow_x": null,
            "overflow_y": null,
            "padding": null,
            "right": null,
            "top": null,
            "visibility": null,
            "width": null
          }
        },
        "8cef33857a4c4498adc90b4509edd096": {
          "model_module": "@jupyter-widgets/controls",
          "model_name": "DescriptionStyleModel",
          "model_module_version": "1.5.0",
          "state": {
            "_model_module": "@jupyter-widgets/controls",
            "_model_module_version": "1.5.0",
            "_model_name": "DescriptionStyleModel",
            "_view_count": null,
            "_view_module": "@jupyter-widgets/base",
            "_view_module_version": "1.2.0",
            "_view_name": "StyleView",
            "description_width": ""
          }
        },
        "f0721d7af56e46ad80f27cfe920b74fc": {
          "model_module": "@jupyter-widgets/base",
          "model_name": "LayoutModel",
          "model_module_version": "1.2.0",
          "state": {
            "_model_module": "@jupyter-widgets/base",
            "_model_module_version": "1.2.0",
            "_model_name": "LayoutModel",
            "_view_count": null,
            "_view_module": "@jupyter-widgets/base",
            "_view_module_version": "1.2.0",
            "_view_name": "LayoutView",
            "align_content": null,
            "align_items": null,
            "align_self": null,
            "border": null,
            "bottom": null,
            "display": null,
            "flex": null,
            "flex_flow": null,
            "grid_area": null,
            "grid_auto_columns": null,
            "grid_auto_flow": null,
            "grid_auto_rows": null,
            "grid_column": null,
            "grid_gap": null,
            "grid_row": null,
            "grid_template_areas": null,
            "grid_template_columns": null,
            "grid_template_rows": null,
            "height": null,
            "justify_content": null,
            "justify_items": null,
            "left": null,
            "margin": null,
            "max_height": null,
            "max_width": null,
            "min_height": null,
            "min_width": null,
            "object_fit": null,
            "object_position": null,
            "order": null,
            "overflow": null,
            "overflow_x": null,
            "overflow_y": null,
            "padding": null,
            "right": null,
            "top": null,
            "visibility": null,
            "width": null
          }
        },
        "fd156f0e6e7e44e7b57cf3b839fa759b": {
          "model_module": "@jupyter-widgets/controls",
          "model_name": "ProgressStyleModel",
          "model_module_version": "1.5.0",
          "state": {
            "_model_module": "@jupyter-widgets/controls",
            "_model_module_version": "1.5.0",
            "_model_name": "ProgressStyleModel",
            "_view_count": null,
            "_view_module": "@jupyter-widgets/base",
            "_view_module_version": "1.2.0",
            "_view_name": "StyleView",
            "bar_color": null,
            "description_width": ""
          }
        },
        "db1b5a5bc041414587e255fe7b4e0a84": {
          "model_module": "@jupyter-widgets/base",
          "model_name": "LayoutModel",
          "model_module_version": "1.2.0",
          "state": {
            "_model_module": "@jupyter-widgets/base",
            "_model_module_version": "1.2.0",
            "_model_name": "LayoutModel",
            "_view_count": null,
            "_view_module": "@jupyter-widgets/base",
            "_view_module_version": "1.2.0",
            "_view_name": "LayoutView",
            "align_content": null,
            "align_items": null,
            "align_self": null,
            "border": null,
            "bottom": null,
            "display": null,
            "flex": null,
            "flex_flow": null,
            "grid_area": null,
            "grid_auto_columns": null,
            "grid_auto_flow": null,
            "grid_auto_rows": null,
            "grid_column": null,
            "grid_gap": null,
            "grid_row": null,
            "grid_template_areas": null,
            "grid_template_columns": null,
            "grid_template_rows": null,
            "height": null,
            "justify_content": null,
            "justify_items": null,
            "left": null,
            "margin": null,
            "max_height": null,
            "max_width": null,
            "min_height": null,
            "min_width": null,
            "object_fit": null,
            "object_position": null,
            "order": null,
            "overflow": null,
            "overflow_x": null,
            "overflow_y": null,
            "padding": null,
            "right": null,
            "top": null,
            "visibility": null,
            "width": null
          }
        },
        "2e520161106c42d29108c58915f7ea73": {
          "model_module": "@jupyter-widgets/controls",
          "model_name": "DescriptionStyleModel",
          "model_module_version": "1.5.0",
          "state": {
            "_model_module": "@jupyter-widgets/controls",
            "_model_module_version": "1.5.0",
            "_model_name": "DescriptionStyleModel",
            "_view_count": null,
            "_view_module": "@jupyter-widgets/base",
            "_view_module_version": "1.2.0",
            "_view_name": "StyleView",
            "description_width": ""
          }
        },
        "4979436fb5f34afbaaa484907f9ccdf6": {
          "model_module": "@jupyter-widgets/controls",
          "model_name": "HBoxModel",
          "model_module_version": "1.5.0",
          "state": {
            "_dom_classes": [],
            "_model_module": "@jupyter-widgets/controls",
            "_model_module_version": "1.5.0",
            "_model_name": "HBoxModel",
            "_view_count": null,
            "_view_module": "@jupyter-widgets/controls",
            "_view_module_version": "1.5.0",
            "_view_name": "HBoxView",
            "box_style": "",
            "children": [
              "IPY_MODEL_b21ebe7b0c654abca77d88c8f44554b0",
              "IPY_MODEL_4ae34da12e184c449977512a7b9f3fd3",
              "IPY_MODEL_f523738e26484e6ba160d2ea1047f358"
            ],
            "layout": "IPY_MODEL_5a35d9cef8e74ca095b18dd708660160"
          }
        },
        "b21ebe7b0c654abca77d88c8f44554b0": {
          "model_module": "@jupyter-widgets/controls",
          "model_name": "HTMLModel",
          "model_module_version": "1.5.0",
          "state": {
            "_dom_classes": [],
            "_model_module": "@jupyter-widgets/controls",
            "_model_module_version": "1.5.0",
            "_model_name": "HTMLModel",
            "_view_count": null,
            "_view_module": "@jupyter-widgets/controls",
            "_view_module_version": "1.5.0",
            "_view_name": "HTMLView",
            "description": "",
            "description_tooltip": null,
            "layout": "IPY_MODEL_298653d4058a4387ac6497505852d050",
            "placeholder": "​",
            "style": "IPY_MODEL_32f574ee7a024dbc8c0b587eb434d496",
            "value": "Downloading model.safetensors: 100%"
          }
        },
        "4ae34da12e184c449977512a7b9f3fd3": {
          "model_module": "@jupyter-widgets/controls",
          "model_name": "FloatProgressModel",
          "model_module_version": "1.5.0",
          "state": {
            "_dom_classes": [],
            "_model_module": "@jupyter-widgets/controls",
            "_model_module_version": "1.5.0",
            "_model_name": "FloatProgressModel",
            "_view_count": null,
            "_view_module": "@jupyter-widgets/controls",
            "_view_module_version": "1.5.0",
            "_view_name": "ProgressView",
            "bar_style": "success",
            "description": "",
            "description_tooltip": null,
            "layout": "IPY_MODEL_558bdf9217b743c8ba0bfe29fc71736f",
            "max": 377607901,
            "min": 0,
            "orientation": "horizontal",
            "style": "IPY_MODEL_3c25bcaba8af4f388db84038bc460888",
            "value": 377607901
          }
        },
        "f523738e26484e6ba160d2ea1047f358": {
          "model_module": "@jupyter-widgets/controls",
          "model_name": "HTMLModel",
          "model_module_version": "1.5.0",
          "state": {
            "_dom_classes": [],
            "_model_module": "@jupyter-widgets/controls",
            "_model_module_version": "1.5.0",
            "_model_name": "HTMLModel",
            "_view_count": null,
            "_view_module": "@jupyter-widgets/controls",
            "_view_module_version": "1.5.0",
            "_view_name": "HTMLView",
            "description": "",
            "description_tooltip": null,
            "layout": "IPY_MODEL_aa6b197ae4584206875e5840f96f0902",
            "placeholder": "​",
            "style": "IPY_MODEL_a88f15aea903478994d6d9ef9f9464e6",
            "value": " 378M/378M [00:01&lt;00:00, 262MB/s]"
          }
        },
        "5a35d9cef8e74ca095b18dd708660160": {
          "model_module": "@jupyter-widgets/base",
          "model_name": "LayoutModel",
          "model_module_version": "1.2.0",
          "state": {
            "_model_module": "@jupyter-widgets/base",
            "_model_module_version": "1.2.0",
            "_model_name": "LayoutModel",
            "_view_count": null,
            "_view_module": "@jupyter-widgets/base",
            "_view_module_version": "1.2.0",
            "_view_name": "LayoutView",
            "align_content": null,
            "align_items": null,
            "align_self": null,
            "border": null,
            "bottom": null,
            "display": null,
            "flex": null,
            "flex_flow": null,
            "grid_area": null,
            "grid_auto_columns": null,
            "grid_auto_flow": null,
            "grid_auto_rows": null,
            "grid_column": null,
            "grid_gap": null,
            "grid_row": null,
            "grid_template_areas": null,
            "grid_template_columns": null,
            "grid_template_rows": null,
            "height": null,
            "justify_content": null,
            "justify_items": null,
            "left": null,
            "margin": null,
            "max_height": null,
            "max_width": null,
            "min_height": null,
            "min_width": null,
            "object_fit": null,
            "object_position": null,
            "order": null,
            "overflow": null,
            "overflow_x": null,
            "overflow_y": null,
            "padding": null,
            "right": null,
            "top": null,
            "visibility": null,
            "width": null
          }
        },
        "298653d4058a4387ac6497505852d050": {
          "model_module": "@jupyter-widgets/base",
          "model_name": "LayoutModel",
          "model_module_version": "1.2.0",
          "state": {
            "_model_module": "@jupyter-widgets/base",
            "_model_module_version": "1.2.0",
            "_model_name": "LayoutModel",
            "_view_count": null,
            "_view_module": "@jupyter-widgets/base",
            "_view_module_version": "1.2.0",
            "_view_name": "LayoutView",
            "align_content": null,
            "align_items": null,
            "align_self": null,
            "border": null,
            "bottom": null,
            "display": null,
            "flex": null,
            "flex_flow": null,
            "grid_area": null,
            "grid_auto_columns": null,
            "grid_auto_flow": null,
            "grid_auto_rows": null,
            "grid_column": null,
            "grid_gap": null,
            "grid_row": null,
            "grid_template_areas": null,
            "grid_template_columns": null,
            "grid_template_rows": null,
            "height": null,
            "justify_content": null,
            "justify_items": null,
            "left": null,
            "margin": null,
            "max_height": null,
            "max_width": null,
            "min_height": null,
            "min_width": null,
            "object_fit": null,
            "object_position": null,
            "order": null,
            "overflow": null,
            "overflow_x": null,
            "overflow_y": null,
            "padding": null,
            "right": null,
            "top": null,
            "visibility": null,
            "width": null
          }
        },
        "32f574ee7a024dbc8c0b587eb434d496": {
          "model_module": "@jupyter-widgets/controls",
          "model_name": "DescriptionStyleModel",
          "model_module_version": "1.5.0",
          "state": {
            "_model_module": "@jupyter-widgets/controls",
            "_model_module_version": "1.5.0",
            "_model_name": "DescriptionStyleModel",
            "_view_count": null,
            "_view_module": "@jupyter-widgets/base",
            "_view_module_version": "1.2.0",
            "_view_name": "StyleView",
            "description_width": ""
          }
        },
        "558bdf9217b743c8ba0bfe29fc71736f": {
          "model_module": "@jupyter-widgets/base",
          "model_name": "LayoutModel",
          "model_module_version": "1.2.0",
          "state": {
            "_model_module": "@jupyter-widgets/base",
            "_model_module_version": "1.2.0",
            "_model_name": "LayoutModel",
            "_view_count": null,
            "_view_module": "@jupyter-widgets/base",
            "_view_module_version": "1.2.0",
            "_view_name": "LayoutView",
            "align_content": null,
            "align_items": null,
            "align_self": null,
            "border": null,
            "bottom": null,
            "display": null,
            "flex": null,
            "flex_flow": null,
            "grid_area": null,
            "grid_auto_columns": null,
            "grid_auto_flow": null,
            "grid_auto_rows": null,
            "grid_column": null,
            "grid_gap": null,
            "grid_row": null,
            "grid_template_areas": null,
            "grid_template_columns": null,
            "grid_template_rows": null,
            "height": null,
            "justify_content": null,
            "justify_items": null,
            "left": null,
            "margin": null,
            "max_height": null,
            "max_width": null,
            "min_height": null,
            "min_width": null,
            "object_fit": null,
            "object_position": null,
            "order": null,
            "overflow": null,
            "overflow_x": null,
            "overflow_y": null,
            "padding": null,
            "right": null,
            "top": null,
            "visibility": null,
            "width": null
          }
        },
        "3c25bcaba8af4f388db84038bc460888": {
          "model_module": "@jupyter-widgets/controls",
          "model_name": "ProgressStyleModel",
          "model_module_version": "1.5.0",
          "state": {
            "_model_module": "@jupyter-widgets/controls",
            "_model_module_version": "1.5.0",
            "_model_name": "ProgressStyleModel",
            "_view_count": null,
            "_view_module": "@jupyter-widgets/base",
            "_view_module_version": "1.2.0",
            "_view_name": "StyleView",
            "bar_color": null,
            "description_width": ""
          }
        },
        "aa6b197ae4584206875e5840f96f0902": {
          "model_module": "@jupyter-widgets/base",
          "model_name": "LayoutModel",
          "model_module_version": "1.2.0",
          "state": {
            "_model_module": "@jupyter-widgets/base",
            "_model_module_version": "1.2.0",
            "_model_name": "LayoutModel",
            "_view_count": null,
            "_view_module": "@jupyter-widgets/base",
            "_view_module_version": "1.2.0",
            "_view_name": "LayoutView",
            "align_content": null,
            "align_items": null,
            "align_self": null,
            "border": null,
            "bottom": null,
            "display": null,
            "flex": null,
            "flex_flow": null,
            "grid_area": null,
            "grid_auto_columns": null,
            "grid_auto_flow": null,
            "grid_auto_rows": null,
            "grid_column": null,
            "grid_gap": null,
            "grid_row": null,
            "grid_template_areas": null,
            "grid_template_columns": null,
            "grid_template_rows": null,
            "height": null,
            "justify_content": null,
            "justify_items": null,
            "left": null,
            "margin": null,
            "max_height": null,
            "max_width": null,
            "min_height": null,
            "min_width": null,
            "object_fit": null,
            "object_position": null,
            "order": null,
            "overflow": null,
            "overflow_x": null,
            "overflow_y": null,
            "padding": null,
            "right": null,
            "top": null,
            "visibility": null,
            "width": null
          }
        },
        "a88f15aea903478994d6d9ef9f9464e6": {
          "model_module": "@jupyter-widgets/controls",
          "model_name": "DescriptionStyleModel",
          "model_module_version": "1.5.0",
          "state": {
            "_model_module": "@jupyter-widgets/controls",
            "_model_module_version": "1.5.0",
            "_model_name": "DescriptionStyleModel",
            "_view_count": null,
            "_view_module": "@jupyter-widgets/base",
            "_view_module_version": "1.2.0",
            "_view_name": "StyleView",
            "description_width": ""
          }
        }
      }
    }
  },
  "nbformat": 4,
  "nbformat_minor": 0
}